{
 "cells": [
  {
   "cell_type": "code",
   "execution_count": 1,
   "metadata": {},
   "outputs": [],
   "source": [
    "from pyspark.sql import *\n",
    "import pyspark.sql.functions as F\n",
    "import pyspark.sql.types as T\n",
    "import datetime\n",
    "import seaborn as sns\n",
    "import matplotlib.pyplot as plt\n",
    "import matplotlib\n",
    "import pandas as pd\n",
    "\n",
    "from pyspark.ml.classification import RandomForestClassifier, DecisionTreeClassifier\n",
    "from pyspark.ml.feature import OneHotEncoderEstimator, StringIndexer, VectorAssembler\n",
    "from pyspark.ml import Pipeline\n",
    "from pyspark.ml.evaluation import BinaryClassificationEvaluator, MulticlassClassificationEvaluator\n",
    "from pyspark.ml.tuning import ParamGridBuilder, CrossValidator\n",
    "\n",
    "%matplotlib inline"
   ]
  },
  {
   "cell_type": "markdown",
   "metadata": {},
   "source": [
    "# BEFORE START\n",
    "# PLASE DOWNLOAD DATASET FROM THIS GOOGLE DRIVE\n",
    "https://drive.google.com/open?id=1DBZ1XgI9Dp9hzTVNYyHvS8Ze3O4PiRKK\n",
    "## At section 6 and 7, save as and read from parquet at the beginning of section before proceeding is recommended. Otherwise will take very long to run"
   ]
  },
  {
   "cell_type": "markdown",
   "metadata": {},
   "source": [
    "# 1. Get Data\n",
    "- The dataset is from GHarchive:year.2017 and GHarchive:year.2018\n",
    "- This is different from GHTorrent used in V2\n",
    "- Reason of switching from GHTorrent to GHarchive is GHarchive have more information regarding pull requests\n",
    "- This section all codes are done one Google BigQuery\n",
    "- Final selected data is saved as JSON file and be used in next section\n"
   ]
  },
  {
   "cell_type": "markdown",
   "metadata": {},
   "source": [
    "### ALL CODES IN THIS SECTION CANNOT BE RUN ON NOTEBOOK, THEY ARE FOR BIGQUERY"
   ]
  },
  {
   "cell_type": "markdown",
   "metadata": {},
   "source": [
    "### 1.1 Step 1 select most popular repository\n",
    "- repository popularity are based on how many WatchEvent happened to a repository from 2017 to 2018\n",
    "- WatchEvent can only be started as stated in https://developer.github.com/v3/activity/events/types/\n",
    "- Select top 3000 popular repositories. Limit 3000 to limit size of data \n",
    "- Syntax is Legacy SQL\n",
    "- The result of this step is saved on BigQuery"
   ]
  },
  {
   "cell_type": "raw",
   "metadata": {},
   "source": [
    "SELECT repo.id as head_repository_id, COUNT(1) as c\n",
    "FROM [githubarchive:year.2017],[githubarchive:year.2018]\n",
    "WHERE type = \"WatchEvent\"\n",
    "GROUP BY head_repository_id\n",
    "ORDER BY c DESC\n",
    "LIMIT 3000"
   ]
  },
  {
   "cell_type": "markdown",
   "metadata": {},
   "source": [
    "### 1.2 Step 2 Query all PullRequestEvents happened from 2017 to 2018 in the 1000 repository\n",
    "- This step returns 2,384,122 rows of pull request events\n",
    "- Use table ys-2-236822:GH2.step1_popular_repository saved on BigQuery from step 1\n",
    "- Syntax is Legacy SQL\n",
    "- The result is saved on BigQuery"
   ]
  },
  {
   "cell_type": "raw",
   "metadata": {},
   "source": [
    "SELECT  \n",
    "*\n",
    "FROM(\n",
    "  SELECT\n",
    "  *\n",
    "  FROM [githubarchive:year.2017],\n",
    "  [githubarchive:year.2018]\n",
    "  WHERE type = \"PullRequestEvent\"\n",
    ")\n",
    "WHERE repo.id IN(SELECT head_repository_id FROM[ys-2-236822:GH2.step1_popular_repository])"
   ]
  },
  {
   "cell_type": "markdown",
   "metadata": {},
   "source": [
    "### 1.3 Step 3 filter by only having pull requests from repository with >= 200 pull requests opened and >= 10 merged \n",
    "- This step returns 2,291,579 rows of pull request events\n",
    "- Use table ys-2-236822:GH2.step2_repositrys_pull_requests saved from step 2\n",
    "- Syntax is Legacy SQL\n",
    "- The result is saved on BigQuery"
   ]
  },
  {
   "cell_type": "raw",
   "metadata": {},
   "source": [
    "SELECT * FROM [ys-2-236822:GH2.step2_repositrys_pull_requests]\n",
    "WHERE repo_id IN\n",
    "(\n",
    "  SELECT repo_id\n",
    "  FROM(\n",
    "    SELECT\n",
    "      repo_id, \n",
    "      SUM(CASE WHEN JSON_EXTRACT(payload, '$.pull_request.merged') IN ('true') THEN 1 ELSE 0 END) AS merged_c,\n",
    "      FROM [ys-2-236822:GH2.step2_repositrys_pull_requests]\n",
    "      WHERE \n",
    "      repo_id IN\n",
    "      ( \n",
    "        SELECT repository_id\n",
    "        FROM(\n",
    "          SELECT \n",
    "          repo_id as repository_id, \n",
    "          COUNT(1) as opened_c\n",
    "          FROM \n",
    "          [ys-2-236822:GH2.step2_repositrys_pull_requests]\n",
    "          WHERE \n",
    "          JSON_EXTRACT(payload, '$.action') IN ('\"opened\"')\n",
    "          GROUP BY \n",
    "          repository_id\n",
    "          HAVING \n",
    "          opened_c >= 50\n",
    "        )\n",
    "      )\n",
    "      AND JSON_EXTRACT(payload, '$.action') IN ('\"closed\"')\n",
    "      GROUP BY\n",
    "      repo_id\n",
    "      HAVING \n",
    "      merged_c >= 10\n",
    "  )\n",
    ")"
   ]
  },
  {
   "cell_type": "markdown",
   "metadata": {},
   "source": [
    "### 1.4 Step 4 select initial data\n",
    "- This step returns 2,291,579 rows of pull requests with certain columns selected\n",
    "- Use table ys-2-236822.GH2.step3_filter_repository saved from step 3\n",
    "- Syntax is Standard SQL\n",
    "- The result is saved on BigQuery"
   ]
  },
  {
   "cell_type": "raw",
   "metadata": {},
   "source": [
    "SELECT \n",
    "repo_id as rp_id, \n",
    "id as event_id,\n",
    "JSON_EXTRACT_SCALAR(payload,'$.action') as action,\n",
    "JSON_EXTRACT_SCALAR(payload,'$.pull_request.additions') as additions,\n",
    "JSON_EXTRACT_SCALAR(payload,'$.pull_request.head.sha') as head_sha,\n",
    "BYTE_LENGTH(JSON_EXTRACT(payload,'$.pull_request.body')) as body,\n",
    "JSON_EXTRACT_SCALAR(payload,'$.pull_request.changed_files') as files_change,\n",
    "JSON_EXTRACT_SCALAR(payload,'$.pull_request.comments') as comments,\n",
    "JSON_EXTRACT_SCALAR(payload,'$.pull_request.commits') as commits,\n",
    "JSON_EXTRACT_SCALAR(payload,'$.pull_request.created_at') as created_time,\n",
    "JSON_EXTRACT_SCALAR(payload,'$.pull_request.closed_at') as closed_at,\n",
    "JSON_EXTRACT_SCALAR(payload,'$.pull_request.deletions') as deletions,\n",
    "JSON_EXTRACT_SCALAR(payload,'$.pull_request.id') as pr_id, \n",
    "JSON_EXTRACT_SCALAR(payload,'$.pull_request.merged') as merged,\n",
    "JSON_EXTRACT_SCALAR(payload,'$.pull_request.merged_at') as merged_time,\n",
    "JSON_EXTRACT_SCALAR(payload,'$.pull_request.review_comments') as review_comments,\n",
    "JSON_EXTRACT_SCALAR(payload,'$.pull_request.title') as title,\n",
    "JSON_EXTRACT_SCALAR(payload,'$.pull_request.user.id') as author_id,\n",
    "JSON_EXTRACT_SCALAR(payload,'$.pull_request.updated_at') as updated_time,\n",
    "JSON_EXTRACT(payload,'$.pull_request.assignees') as assignees,\n",
    "JSON_EXTRACT(payload,'$.pull_request.requested_reviewers') as requested_reviewers,\n",
    "JSON_EXTRACT(payload,'$.pull_request.requested_teams') as requested_teams\n",
    "FROM `ys-2-236822.GH2.step3_filter_repository`"
   ]
  },
  {
   "cell_type": "markdown",
   "metadata": {},
   "source": [
    "### 1.5 Step 5 Select data for downloading\n",
    "- This step returns 1,130,186 rows of pull requests\n",
    "- Syntax is standard SQL\n",
    "- Use table ys-2-236822.GH2.step4 saved from step 4\n",
    "- The result is saved on BigQuery\n",
    "- The motive of choosing closed pull requests is explained in next section\n",
    "- The result is downloaded as gha_pre.json file"
   ]
  },
  {
   "cell_type": "raw",
   "metadata": {},
   "source": [
    "SELECT \n",
    "rp_id,\n",
    "action,\n",
    "additions,\n",
    "body,\n",
    "created_time,\n",
    "closed_at as closed_time,\n",
    "comments,\n",
    "commits,\n",
    "files_change,\n",
    "deletions,\n",
    "pr_id,\n",
    "merged,\n",
    "merged_time,\n",
    "review_comments,\n",
    "title,\n",
    "author_id\n",
    "FROM `ys-2-236822.GH2.step4`\n",
    "WHERE action = \"closed\""
   ]
  },
  {
   "cell_type": "markdown",
   "metadata": {},
   "source": [
    "# 2. Read Data\n",
    "- I choose pull requests that are closed. Their acceptance status are indicated by 'merged' column. The reason I choose pull request with \"closed\" actions instead of \"opened\" actions because \"closed\" pull requests reflects the full property of the pull request.\n",
    "- For example, when a pull request just opened, there won't be reviews showing up in the pull request event payload."
   ]
  },
  {
   "cell_type": "code",
   "execution_count": 2,
   "metadata": {},
   "outputs": [],
   "source": [
    "pull_request_JSON = spark.read.json('gha_pre.json')"
   ]
  },
  {
   "cell_type": "code",
   "execution_count": 3,
   "metadata": {},
   "outputs": [
    {
     "name": "stdout",
     "output_type": "stream",
     "text": [
      "root\n",
      " |-- action: string (nullable = true)\n",
      " |-- additions: string (nullable = true)\n",
      " |-- author_id: string (nullable = true)\n",
      " |-- body: string (nullable = true)\n",
      " |-- closed_time: string (nullable = true)\n",
      " |-- comments: string (nullable = true)\n",
      " |-- commits: string (nullable = true)\n",
      " |-- created_time: string (nullable = true)\n",
      " |-- deletions: string (nullable = true)\n",
      " |-- files_change: string (nullable = true)\n",
      " |-- merged: string (nullable = true)\n",
      " |-- merged_time: string (nullable = true)\n",
      " |-- pr_id: string (nullable = true)\n",
      " |-- review_comments: string (nullable = true)\n",
      " |-- rp_id: string (nullable = true)\n",
      " |-- title: string (nullable = true)\n",
      "\n"
     ]
    }
   ],
   "source": [
    "pull_request_JSON.printSchema()"
   ]
  },
  {
   "cell_type": "code",
   "execution_count": 4,
   "metadata": {},
   "outputs": [
    {
     "data": {
      "text/plain": [
       "Row(action='closed', additions='377', author_id='11607785', body='76', closed_time='2018-08-20T15:08:28Z', comments='0', commits='3', created_time='2018-08-20T15:06:45Z', deletions='28', files_change='5', merged='false', merged_time=None, pr_id='209552173', review_comments='0', rp_id='104208128', title='update jni with lock and exception logics && add java interface close #807')"
      ]
     },
     "execution_count": 4,
     "metadata": {},
     "output_type": "execute_result"
    }
   ],
   "source": [
    "pull_request_JSON.first()"
   ]
  },
  {
   "cell_type": "code",
   "execution_count": 5,
   "metadata": {},
   "outputs": [],
   "source": [
    "pull_request_JSON.createOrReplaceTempView('raw_DF')"
   ]
  },
  {
   "cell_type": "markdown",
   "metadata": {},
   "source": [
    "### 2.1 Cast data into right type"
   ]
  },
  {
   "cell_type": "code",
   "execution_count": 6,
   "metadata": {},
   "outputs": [
    {
     "name": "stdout",
     "output_type": "stream",
     "text": [
      "root\n",
      " |-- action: string (nullable = true)\n",
      " |-- additions: long (nullable = true)\n",
      " |-- author_id: long (nullable = true)\n",
      " |-- body: long (nullable = true)\n",
      " |-- comments: integer (nullable = true)\n",
      " |-- commits: integer (nullable = true)\n",
      " |-- created_time: timestamp (nullable = true)\n",
      " |-- closed_time: timestamp (nullable = true)\n",
      " |-- deletions: long (nullable = true)\n",
      " |-- files_change: long (nullable = true)\n",
      " |-- merged: string (nullable = true)\n",
      " |-- merged_time: timestamp (nullable = true)\n",
      " |-- pr_id: long (nullable = true)\n",
      " |-- review_comments: integer (nullable = true)\n",
      " |-- title: string (nullable = true)\n",
      " |-- rp_id: long (nullable = true)\n",
      "\n"
     ]
    }
   ],
   "source": [
    "spark.sql(\"\"\"\n",
    "SELECT\n",
    "action,\n",
    "CAST(additions as BIGINT) as additions,\n",
    "CAST(author_id as BIGINT) as author_id,\n",
    "CAST(body as BIGINT) as body,\n",
    "CAST(comments as INT) as comments,\n",
    "CAST(commits as INT) as commits,\n",
    "CAST(created_time as TIMESTAMP) as created_time,\n",
    "CAST(closed_time as TIMESTAMP) as closed_time,\n",
    "CAST(deletions as BIGINT) as deletions,\n",
    "CAST(files_change as BIGINT) as files_change,\n",
    "merged,\n",
    "CAST(merged_time as TIMESTAMP) as merged_time,\n",
    "CAST(pr_id as BIGINT) as pr_id,\n",
    "CAST(review_comments as INT) as review_comments,\n",
    "title,\n",
    "CAST(rp_id as BIGINT) as rp_id\n",
    "FROM raw_DF\n",
    "\"\"\").printSchema()"
   ]
  },
  {
   "cell_type": "code",
   "execution_count": 7,
   "metadata": {},
   "outputs": [],
   "source": [
    "spark.sql(\"\"\"\n",
    "SELECT\n",
    "action,\n",
    "CAST(additions as BIGINT) as additions,\n",
    "CAST(author_id as BIGINT) as author_id,\n",
    "CAST(body as BIGINT) as body,\n",
    "CAST(comments as INT) as comments,\n",
    "CAST(commits as INT) as commits,\n",
    "CAST(created_time as TIMESTAMP) as created_time,\n",
    "CAST(closed_time as TIMESTAMP) as closed_time,\n",
    "CAST(deletions as BIGINT) as deletions,\n",
    "CAST(files_change as BIGINT) as files_change,\n",
    "merged,\n",
    "CAST(merged_time as TIMESTAMP) as merged_time,\n",
    "CAST(pr_id as BIGINT) as pr_id,\n",
    "CAST(review_comments as INT) as review_comments,\n",
    "title,\n",
    "CAST(rp_id as BIGINT) as rp_id\n",
    "FROM raw_DF\n",
    "\"\"\").createOrReplaceTempView('pr_DF')"
   ]
  },
  {
   "cell_type": "markdown",
   "metadata": {},
   "source": [
    "# 3. Clean"
   ]
  },
  {
   "cell_type": "markdown",
   "metadata": {},
   "source": [
    "### 3.1 Check quality of the data, look for null values"
   ]
  },
  {
   "cell_type": "code",
   "execution_count": 8,
   "metadata": {},
   "outputs": [],
   "source": [
    "pull_request_DF = spark.sql(\"\"\"\n",
    "SELECT * FROM pr_DF\n",
    "\"\"\")"
   ]
  },
  {
   "cell_type": "code",
   "execution_count": 9,
   "metadata": {},
   "outputs": [
    {
     "name": "stdout",
     "output_type": "stream",
     "text": [
      "+------+---------+---------+----+--------+-------+------------+-----------+---------+------------+------+-----------+-----+---------------+-----+-----+\n",
      "|action|additions|author_id|body|comments|commits|created_time|closed_time|deletions|files_change|merged|merged_time|pr_id|review_comments|title|rp_id|\n",
      "+------+---------+---------+----+--------+-------+------------+-----------+---------+------------+------+-----------+-----+---------------+-----+-----+\n",
      "|     0|        0|        0|8063|       0|      0|           0|         83|        0|           0|     0|     292826|    0|              0|    0|    0|\n",
      "+------+---------+---------+----+--------+-------+------------+-----------+---------+------------+------+-----------+-----+---------------+-----+-----+\n",
      "\n"
     ]
    }
   ],
   "source": [
    "pull_request_DF.select([F.count(F.when(F.isnull(c), c)).alias(c) for c in pull_request_DF.columns]).show()"
   ]
  },
  {
   "cell_type": "markdown",
   "metadata": {},
   "source": [
    "- 'body' column is null means that the pull request body has no message, convert to 0 in this case\n",
    "- 'merged_time\" is null means the pull request did not merged, so it doesn't have values. This does not interfere with model prediction because in latency prediction, i only look at pull requests that are merged in the end\n",
    "- closed_time is null cannot be explained. It should be included if the pull request is closed. I assume that is abnormality. Remove the rows with it. It only has 83 such rows."
   ]
  },
  {
   "cell_type": "markdown",
   "metadata": {},
   "source": [
    "### 3.2 Remove the rows with null closed_time, make null values in body column to 0"
   ]
  },
  {
   "cell_type": "code",
   "execution_count": 10,
   "metadata": {},
   "outputs": [],
   "source": [
    "pull_request_DF = spark.sql(\"\"\"\n",
    "SELECT * FROM pr_DF\n",
    "WHERE closed_time IS NOT NULL\n",
    "\"\"\")"
   ]
  },
  {
   "cell_type": "code",
   "execution_count": 11,
   "metadata": {},
   "outputs": [],
   "source": [
    "pull_request_DF = spark.sql(\"\"\"\n",
    "SELECT\n",
    "action,\n",
    "additions,\n",
    "author_id,\n",
    "CASE WHEN body IS NULL THEN 0 ELSE body END AS body,\n",
    "comments,\n",
    "commits,\n",
    "created_time,\n",
    "closed_time,\n",
    "deletions,\n",
    "files_change,\n",
    "merged,\n",
    "merged_time,\n",
    "pr_id,\n",
    "review_comments,\n",
    "title,\n",
    "rp_id\n",
    "FROM pr_DF\n",
    "WHERE closed_time IS NOT NULL\n",
    "\"\"\")"
   ]
  },
  {
   "cell_type": "code",
   "execution_count": 12,
   "metadata": {},
   "outputs": [
    {
     "name": "stdout",
     "output_type": "stream",
     "text": [
      "+------+---------+---------+----+--------+-------+------------+-----------+---------+------------+------+-----------+-----+---------------+-----+-----+\n",
      "|action|additions|author_id|body|comments|commits|created_time|closed_time|deletions|files_change|merged|merged_time|pr_id|review_comments|title|rp_id|\n",
      "+------+---------+---------+----+--------+-------+------------+-----------+---------+------------+------+-----------+-----+---------------+-----+-----+\n",
      "|     0|        0|        0|   0|       0|      0|           0|          0|        0|           0|     0|     292744|    0|              0|    0|    0|\n",
      "+------+---------+---------+----+--------+-------+------------+-----------+---------+------------+------+-----------+-----+---------------+-----+-----+\n",
      "\n"
     ]
    }
   ],
   "source": [
    "pull_request_DF.select([F.count(F.when(F.isnull(c), c)).alias(c) for c in pull_request_DF.columns]).show()"
   ]
  },
  {
   "cell_type": "markdown",
   "metadata": {},
   "source": [
    "### Dataset description after removing null closed_time"
   ]
  },
  {
   "cell_type": "code",
   "execution_count": 13,
   "metadata": {},
   "outputs": [
    {
     "data": {
      "text/html": [
       "<div>\n",
       "<style scoped>\n",
       "    .dataframe tbody tr th:only-of-type {\n",
       "        vertical-align: middle;\n",
       "    }\n",
       "\n",
       "    .dataframe tbody tr th {\n",
       "        vertical-align: top;\n",
       "    }\n",
       "\n",
       "    .dataframe thead th {\n",
       "        text-align: right;\n",
       "    }\n",
       "</style>\n",
       "<table border=\"1\" class=\"dataframe\">\n",
       "  <thead>\n",
       "    <tr style=\"text-align: right;\">\n",
       "      <th></th>\n",
       "      <th>summary</th>\n",
       "      <th>action</th>\n",
       "      <th>additions</th>\n",
       "      <th>author_id</th>\n",
       "      <th>body</th>\n",
       "      <th>comments</th>\n",
       "      <th>commits</th>\n",
       "      <th>deletions</th>\n",
       "      <th>files_change</th>\n",
       "      <th>merged</th>\n",
       "      <th>pr_id</th>\n",
       "      <th>review_comments</th>\n",
       "      <th>title</th>\n",
       "      <th>rp_id</th>\n",
       "    </tr>\n",
       "  </thead>\n",
       "  <tbody>\n",
       "    <tr>\n",
       "      <th>0</th>\n",
       "      <td>count</td>\n",
       "      <td>1130103</td>\n",
       "      <td>1130103</td>\n",
       "      <td>1130103</td>\n",
       "      <td>1130103</td>\n",
       "      <td>1130103</td>\n",
       "      <td>1130103</td>\n",
       "      <td>1130103</td>\n",
       "      <td>1130103</td>\n",
       "      <td>1130103</td>\n",
       "      <td>1130103</td>\n",
       "      <td>1130103</td>\n",
       "      <td>1130103</td>\n",
       "      <td>1130103</td>\n",
       "    </tr>\n",
       "    <tr>\n",
       "      <th>1</th>\n",
       "      <td>mean</td>\n",
       "      <td>None</td>\n",
       "      <td>1393.490688016933</td>\n",
       "      <td>7502370.563319449</td>\n",
       "      <td>494.613302504285</td>\n",
       "      <td>2.6977602926458917</td>\n",
       "      <td>8.236798769669667</td>\n",
       "      <td>741.8403331377759</td>\n",
       "      <td>18.129995230523235</td>\n",
       "      <td>None</td>\n",
       "      <td>1.63292513469428E8</td>\n",
       "      <td>1.932849483631138</td>\n",
       "      <td>1.9695025641215992E13</td>\n",
       "      <td>3.462955597017794E7</td>\n",
       "    </tr>\n",
       "    <tr>\n",
       "      <th>2</th>\n",
       "      <td>stddev</td>\n",
       "      <td>None</td>\n",
       "      <td>52404.220740722965</td>\n",
       "      <td>9346027.090780158</td>\n",
       "      <td>1471.4566100986647</td>\n",
       "      <td>5.613624079679758</td>\n",
       "      <td>147.28142153636958</td>\n",
       "      <td>31497.614544087275</td>\n",
       "      <td>368.15066009129515</td>\n",
       "      <td>None</td>\n",
       "      <td>4.328926639526936E7</td>\n",
       "      <td>8.035176403538584</td>\n",
       "      <td>4.888171699202349E14</td>\n",
       "      <td>3.0313188409802787E7</td>\n",
       "    </tr>\n",
       "    <tr>\n",
       "      <th>3</th>\n",
       "      <td>min</td>\n",
       "      <td>closed</td>\n",
       "      <td>0</td>\n",
       "      <td>1</td>\n",
       "      <td>0</td>\n",
       "      <td>0</td>\n",
       "      <td>0</td>\n",
       "      <td>0</td>\n",
       "      <td>0</td>\n",
       "      <td>false</td>\n",
       "      <td>34433</td>\n",
       "      <td>0</td>\n",
       "      <td>\bChore: rewrite parseListConfig for a small pe...</td>\n",
       "      <td>3282</td>\n",
       "    </tr>\n",
       "    <tr>\n",
       "      <th>4</th>\n",
       "      <td>max</td>\n",
       "      <td>closed</td>\n",
       "      <td>18326933</td>\n",
       "      <td>46401660</td>\n",
       "      <td>232314</td>\n",
       "      <td>565</td>\n",
       "      <td>10000</td>\n",
       "      <td>10429480</td>\n",
       "      <td>125653</td>\n",
       "      <td>true</td>\n",
       "      <td>242466879</td>\n",
       "      <td>821</td>\n",
       "      <td>🦆 extract the cdn</td>\n",
       "      <td>156648725</td>\n",
       "    </tr>\n",
       "  </tbody>\n",
       "</table>\n",
       "</div>"
      ],
      "text/plain": [
       "  summary   action           additions          author_id                body  \\\n",
       "0   count  1130103             1130103            1130103             1130103   \n",
       "1    mean     None   1393.490688016933  7502370.563319449    494.613302504285   \n",
       "2  stddev     None  52404.220740722965  9346027.090780158  1471.4566100986647   \n",
       "3     min   closed                   0                  1                   0   \n",
       "4     max   closed            18326933           46401660              232314   \n",
       "\n",
       "             comments             commits           deletions  \\\n",
       "0             1130103             1130103             1130103   \n",
       "1  2.6977602926458917   8.236798769669667   741.8403331377759   \n",
       "2   5.613624079679758  147.28142153636958  31497.614544087275   \n",
       "3                   0                   0                   0   \n",
       "4                 565               10000            10429480   \n",
       "\n",
       "         files_change   merged                pr_id    review_comments  \\\n",
       "0             1130103  1130103              1130103            1130103   \n",
       "1  18.129995230523235     None   1.63292513469428E8  1.932849483631138   \n",
       "2  368.15066009129515     None  4.328926639526936E7  8.035176403538584   \n",
       "3                   0    false                34433                  0   \n",
       "4              125653     true            242466879                821   \n",
       "\n",
       "                                               title                 rp_id  \n",
       "0                                            1130103               1130103  \n",
       "1                              1.9695025641215992E13   3.462955597017794E7  \n",
       "2                               4.888171699202349E14  3.0313188409802787E7  \n",
       "3  \bChore: rewrite parseListConfig for a small pe...                  3282  \n",
       "4                                  🦆 extract the cdn             156648725  "
      ]
     },
     "execution_count": 13,
     "metadata": {},
     "output_type": "execute_result"
    }
   ],
   "source": [
    "pull_request_DF.describe(pull_request_DF.columns).toPandas()"
   ]
  },
  {
   "cell_type": "code",
   "execution_count": 14,
   "metadata": {},
   "outputs": [],
   "source": [
    "pull_request_DF.createOrReplaceTempView('pr_DF')"
   ]
  },
  {
   "cell_type": "markdown",
   "metadata": {},
   "source": [
    "# 4. Exploration and Selection"
   ]
  },
  {
   "cell_type": "markdown",
   "metadata": {},
   "source": [
    "### 4.1 Number of pull requests every Quarter in 2017, 2018"
   ]
  },
  {
   "cell_type": "code",
   "execution_count": 15,
   "metadata": {},
   "outputs": [
    {
     "data": {
      "text/plain": [
       "<matplotlib.axes._subplots.AxesSubplot at 0x7ff67f7ff9e8>"
      ]
     },
     "execution_count": 15,
     "metadata": {},
     "output_type": "execute_result"
    },
    {
     "data": {
      "image/png": "[encoded data removed]",
      "text/plain": [
       "<Figure size 720x360 with 1 Axes>"
      ]
     },
     "metadata": {
      "needs_background": "light"
     },
     "output_type": "display_data"
    }
   ],
   "source": [
    "spark.sql(\"\"\"\n",
    "SELECT (CASE \n",
    "    WHEN closed_time BETWEEN '2017-01-01' AND '2017-03-31' THEN \"2017Q1\"\n",
    "    WHEN closed_time BETWEEN '2017-04-01' AND '2017-06-30' THEN \"2017Q2\"\n",
    "    WHEN closed_time BETWEEN '2017-07-01' AND '2017-09-30' THEN \"2017Q3\"\n",
    "    WHEN closed_time BETWEEN '2017-10-01' AND '2017-12-31' THEN \"2017Q4\"\n",
    "    WHEN closed_time BETWEEN '2018-01-01' AND '2018-03-31' THEN \"2018Q1\"\n",
    "    WHEN closed_time BETWEEN '2018-04-01' AND '2018-06-30' THEN \"2018Q2\"\n",
    "    WHEN closed_time BETWEEN '2018-07-01' AND '2018-09-30' THEN \"2018Q3\"\n",
    "    WHEN closed_time BETWEEN '2018-10-01' AND '2018-12-31' THEN \"2018Q4\"\n",
    "    ELSE \"outside\"\n",
    "    END\n",
    "    ) as Q, COUNT(1) as count FROM pr_DF\n",
    "GROUP BY Q\n",
    "ORDER BY Q\n",
    "\"\"\").toPandas().plot(kind=\"bar\", x=\"Q\", y=\"count\", figsize=(10,5), color=\"blue\")"
   ]
  },
  {
   "cell_type": "code",
   "execution_count": 16,
   "metadata": {},
   "outputs": [
    {
     "name": "stdout",
     "output_type": "stream",
     "text": [
      "+-------------------+\n",
      "|   max(closed_time)|\n",
      "+-------------------+\n",
      "|2019-01-05 23:59:09|\n",
      "+-------------------+\n",
      "\n"
     ]
    }
   ],
   "source": [
    "spark.sql(\"\"\"\n",
    "SELECT MAX(closed_time)\n",
    "FROM pr_DF\n",
    "\"\"\").show()"
   ]
  },
  {
   "cell_type": "code",
   "execution_count": 17,
   "metadata": {},
   "outputs": [
    {
     "name": "stdout",
     "output_type": "stream",
     "text": [
      "+-------------------+\n",
      "|   min(closed_time)|\n",
      "+-------------------+\n",
      "|2017-01-01 00:06:00|\n",
      "+-------------------+\n",
      "\n"
     ]
    }
   ],
   "source": [
    "spark.sql(\"\"\"\n",
    "SELECT MIN(closed_time)\n",
    "FROM pr_DF\n",
    "\"\"\").show()"
   ]
  },
  {
   "cell_type": "markdown",
   "metadata": {},
   "source": [
    "#### Comment:\n",
    "- somehow pull requests closed outside 2017/2018 year got into the dataset. Even Though the original dataset on BigQuery was from gharchive:year.2017 and gharchive:.year.2018. This does not heavily affect the data, as see the latest date is 2019-01-5. In this case I will treat it as in 2018Q4"
   ]
  },
  {
   "cell_type": "markdown",
   "metadata": {},
   "source": [
    "### 4.2 Accepted pull request latency distribution\n",
    "- How long does it take pull request to get accpted?"
   ]
  },
  {
   "cell_type": "code",
   "execution_count": 18,
   "metadata": {},
   "outputs": [
    {
     "data": {
      "text/plain": [
       "<function __main__.duration(start, end)>"
      ]
     },
     "execution_count": 18,
     "metadata": {},
     "output_type": "execute_result"
    }
   ],
   "source": [
    "def duration(start, end):\n",
    "\n",
    "    elapsed = end - start\n",
    "    if elapsed <= datetime.timedelta(minutes = 1):\n",
    "        return \"instantly\"\n",
    "    if datetime.timedelta(minutes = 1) < elapsed <= datetime.timedelta(hours = 1):\n",
    "        return \"within_hour\"\n",
    "    elif datetime.timedelta(hours = 1) < elapsed <= datetime.timedelta(days = 1):\n",
    "        return \"within_day\"\n",
    "    elif datetime.timedelta(days = 1) < elapsed <= datetime.timedelta(days = 7):\n",
    "        return \"within_week\"\n",
    "    elif datetime.timedelta(days = 7) < elapsed <= datetime.timedelta(days = 30):\n",
    "        return \"within_month\"\n",
    "    elif datetime.timedelta(days = 30) < elapsed <= datetime.timedelta(days = 90):\n",
    "        return \"within_quarter\"\n",
    "    elif datetime.timedelta(days = 90) < elapsed <= datetime.timedelta(days = 180):\n",
    "        return \"within_half_year\"\n",
    "    elif datetime.timedelta(days = 180) < elapsed <= datetime.timedelta(days = 365):\n",
    "        return \"within_year\"\n",
    "    else:    \n",
    "        return \"took_ages\"\n",
    "    \n",
    "spark.udf.register(\"time_diff\", duration, T.StringType())"
   ]
  },
  {
   "cell_type": "code",
   "execution_count": 19,
   "metadata": {},
   "outputs": [],
   "source": [
    "latency = spark.sql(\"\"\"\n",
    "SELECT year, time_diff(created_time, merged_time) as latency, COUNT(1) as count\n",
    "FROM(\n",
    "    SELECT (CASE\n",
    "        WHEN closed_time < \"2018-01-01\" THEN \"2017\"\n",
    "        ELSE \"2018\"\n",
    "        END\n",
    "    \n",
    "    ) as year, created_time, merged_time\n",
    "    FROM pr_DF\n",
    "    WHERE merged = \"true\"\n",
    ")\n",
    "GROUP BY year, latency\n",
    "\"\"\").toPandas()"
   ]
  },
  {
   "cell_type": "code",
   "execution_count": 20,
   "metadata": {},
   "outputs": [
    {
     "name": "stdout",
     "output_type": "stream",
     "text": [
      "+----+----------------+------+\n",
      "|year|         latency| count|\n",
      "+----+----------------+------+\n",
      "|2017|  within_quarter| 14265|\n",
      "|2017|     within_week|105241|\n",
      "|2017|     within_year|  1580|\n",
      "|2017|      within_day|162723|\n",
      "|2017|    within_month| 45947|\n",
      "|2017|       took_ages|   526|\n",
      "|2017|       instantly| 11061|\n",
      "|2017|     within_hour| 73024|\n",
      "|2017|within_half_year|  3758|\n",
      "|2018|    within_month| 48824|\n",
      "|2018|     within_hour| 64376|\n",
      "|2018|     within_year|  1968|\n",
      "|2018|       took_ages|   703|\n",
      "|2018|  within_quarter| 15961|\n",
      "|2018|       instantly| 15448|\n",
      "|2018|     within_week|107765|\n",
      "|2018|within_half_year|  4198|\n",
      "|2018|      within_day|159991|\n",
      "+----+----------------+------+\n",
      "\n"
     ]
    }
   ],
   "source": [
    "spark.sql(\"\"\"\n",
    "SELECT year, time_diff(created_time, merged_time) as latency, COUNT(1) as count\n",
    "FROM(\n",
    "    SELECT (CASE\n",
    "        WHEN closed_time < \"2018-01-01\" THEN \"2017\"\n",
    "        ELSE \"2018\"\n",
    "        END\n",
    "    \n",
    "    ) as year, created_time, merged_time\n",
    "    FROM pr_DF\n",
    "    WHERE merged = \"true\"\n",
    ")\n",
    "GROUP BY year, latency\n",
    "ORDER BY year\n",
    "\"\"\").show()"
   ]
  },
  {
   "cell_type": "code",
   "execution_count": 21,
   "metadata": {},
   "outputs": [
    {
     "data": {
      "image/png": "[encoded data removed]",
      "text/plain": [
       "<Figure size 549.75x432 with 1 Axes>"
      ]
     },
     "metadata": {
      "needs_background": "light"
     },
     "output_type": "display_data"
    }
   ],
   "source": [
    "g = sns.catplot(x=\"year\", y=\"count\", hue=\"latency\", data=latency, \n",
    "                hue_order = [\"instantly\", \"within_hour\",\"within_day\", \"within_week\",\"within_month\",\"within_quarter\",\"within_half_year\", \"within_year\", \"took_ages\"],\n",
    "                height=6, kind=\"bar\", palette=\"muted\")"
   ]
  },
  {
   "cell_type": "markdown",
   "metadata": {},
   "source": [
    "### Comment:\n",
    "- Most pull requests accepted within day and week"
   ]
  },
  {
   "cell_type": "markdown",
   "metadata": {},
   "source": [
    "### 4.3 Repository acceptance distribution\n",
    "- Bin repositories by acceptance rate every 10%"
   ]
  },
  {
   "cell_type": "code",
   "execution_count": 22,
   "metadata": {},
   "outputs": [
    {
     "data": {
      "text/plain": [
       "<matplotlib.axes._subplots.AxesSubplot at 0x7ff67f3e9f28>"
      ]
     },
     "execution_count": 22,
     "metadata": {},
     "output_type": "execute_result"
    },
    {
     "data": {
      "image/png": "[encoded data removed]",
      "text/plain": [
       "<Figure size 720x360 with 1 Axes>"
      ]
     },
     "metadata": {
      "needs_background": "light"
     },
     "output_type": "display_data"
    }
   ],
   "source": [
    "spark.sql(\"\"\"\n",
    "SELECT bin, COUNT(1) as count\n",
    "FROM(\n",
    "    SELECT CEIL(percentage * 10) AS bin\n",
    "    FROM(\n",
    "        SELECT DISTINCT rp_id, COUNT(CASE WHEN merged = \"true\" THEN 1 END) over (PARTITION BY rp_id)/COUNT(1) over (PARTITION BY rp_id) as percentage\n",
    "        FROM pr_DF\n",
    "    )\n",
    ") \n",
    "GROUP BY bin\n",
    "ORDER BY bin\n",
    "\"\"\").toPandas().plot(kind=\"bar\", x=\"bin\", y=\"count\", figsize=(10,5), color=\"blue\")"
   ]
  },
  {
   "cell_type": "markdown",
   "metadata": {},
   "source": [
    "### Commnet:\n",
    "- There is a tail forming on the acceptance distribution\n",
    "- I will consider removing the tail with bins below 4 from the dataset\n"
   ]
  },
  {
   "cell_type": "markdown",
   "metadata": {},
   "source": [
    "### 4.4 Remove repositories below bin 4"
   ]
  },
  {
   "cell_type": "code",
   "execution_count": 23,
   "metadata": {},
   "outputs": [
    {
     "data": {
      "text/html": [
       "<div>\n",
       "<style scoped>\n",
       "    .dataframe tbody tr th:only-of-type {\n",
       "        vertical-align: middle;\n",
       "    }\n",
       "\n",
       "    .dataframe tbody tr th {\n",
       "        vertical-align: top;\n",
       "    }\n",
       "\n",
       "    .dataframe thead th {\n",
       "        text-align: right;\n",
       "    }\n",
       "</style>\n",
       "<table border=\"1\" class=\"dataframe\">\n",
       "  <thead>\n",
       "    <tr style=\"text-align: right;\">\n",
       "      <th></th>\n",
       "      <th>summary</th>\n",
       "      <th>action</th>\n",
       "      <th>additions</th>\n",
       "      <th>author_id</th>\n",
       "      <th>body</th>\n",
       "      <th>comments</th>\n",
       "      <th>commits</th>\n",
       "      <th>deletions</th>\n",
       "      <th>files_change</th>\n",
       "      <th>merged</th>\n",
       "      <th>pr_id</th>\n",
       "      <th>review_comments</th>\n",
       "      <th>title</th>\n",
       "      <th>rp_id</th>\n",
       "    </tr>\n",
       "  </thead>\n",
       "  <tbody>\n",
       "    <tr>\n",
       "      <th>0</th>\n",
       "      <td>count</td>\n",
       "      <td>1055261</td>\n",
       "      <td>1055261</td>\n",
       "      <td>1055261</td>\n",
       "      <td>1055261</td>\n",
       "      <td>1055261</td>\n",
       "      <td>1055261</td>\n",
       "      <td>1055261</td>\n",
       "      <td>1055261</td>\n",
       "      <td>1055261</td>\n",
       "      <td>1055261</td>\n",
       "      <td>1055261</td>\n",
       "      <td>1055261</td>\n",
       "      <td>1055261</td>\n",
       "    </tr>\n",
       "    <tr>\n",
       "      <th>1</th>\n",
       "      <td>mean</td>\n",
       "      <td>None</td>\n",
       "      <td>1388.1788865503415</td>\n",
       "      <td>7600165.654518645</td>\n",
       "      <td>492.2935074829829</td>\n",
       "      <td>2.6477733944493353</td>\n",
       "      <td>7.850660642248695</td>\n",
       "      <td>735.5735462601195</td>\n",
       "      <td>17.805834765048647</td>\n",
       "      <td>None</td>\n",
       "      <td>1.638554163457827E8</td>\n",
       "      <td>1.9060156681617155</td>\n",
       "      <td>2.1434868895738727E13</td>\n",
       "      <td>3.4868027980974376E7</td>\n",
       "    </tr>\n",
       "    <tr>\n",
       "      <th>2</th>\n",
       "      <td>stddev</td>\n",
       "      <td>None</td>\n",
       "      <td>52848.55970535548</td>\n",
       "      <td>9460964.908711387</td>\n",
       "      <td>1472.8017163110187</td>\n",
       "      <td>5.536170999702019</td>\n",
       "      <td>142.33315344992042</td>\n",
       "      <td>31689.36380743662</td>\n",
       "      <td>365.92795966336746</td>\n",
       "      <td>None</td>\n",
       "      <td>4.322899256442379E7</td>\n",
       "      <td>7.926398726552914</td>\n",
       "      <td>5.099511702024052E14</td>\n",
       "      <td>3.0890428629999075E7</td>\n",
       "    </tr>\n",
       "    <tr>\n",
       "      <th>3</th>\n",
       "      <td>min</td>\n",
       "      <td>closed</td>\n",
       "      <td>0</td>\n",
       "      <td>1</td>\n",
       "      <td>0</td>\n",
       "      <td>0</td>\n",
       "      <td>0</td>\n",
       "      <td>0</td>\n",
       "      <td>0</td>\n",
       "      <td>false</td>\n",
       "      <td>34433</td>\n",
       "      <td>0</td>\n",
       "      <td>\bChore: rewrite parseListConfig for a small pe...</td>\n",
       "      <td>3282</td>\n",
       "    </tr>\n",
       "    <tr>\n",
       "      <th>4</th>\n",
       "      <td>max</td>\n",
       "      <td>closed</td>\n",
       "      <td>18326933</td>\n",
       "      <td>46401660</td>\n",
       "      <td>232314</td>\n",
       "      <td>565</td>\n",
       "      <td>10000</td>\n",
       "      <td>10429480</td>\n",
       "      <td>125653</td>\n",
       "      <td>true</td>\n",
       "      <td>242466879</td>\n",
       "      <td>821</td>\n",
       "      <td>🦆 extract the cdn</td>\n",
       "      <td>156648725</td>\n",
       "    </tr>\n",
       "  </tbody>\n",
       "</table>\n",
       "</div>"
      ],
      "text/plain": [
       "  summary   action           additions          author_id                body  \\\n",
       "0   count  1055261             1055261            1055261             1055261   \n",
       "1    mean     None  1388.1788865503415  7600165.654518645   492.2935074829829   \n",
       "2  stddev     None   52848.55970535548  9460964.908711387  1472.8017163110187   \n",
       "3     min   closed                   0                  1                   0   \n",
       "4     max   closed            18326933           46401660              232314   \n",
       "\n",
       "             comments             commits          deletions  \\\n",
       "0             1055261             1055261            1055261   \n",
       "1  2.6477733944493353   7.850660642248695  735.5735462601195   \n",
       "2   5.536170999702019  142.33315344992042  31689.36380743662   \n",
       "3                   0                   0                  0   \n",
       "4                 565               10000           10429480   \n",
       "\n",
       "         files_change   merged                pr_id     review_comments  \\\n",
       "0             1055261  1055261              1055261             1055261   \n",
       "1  17.805834765048647     None  1.638554163457827E8  1.9060156681617155   \n",
       "2  365.92795966336746     None  4.322899256442379E7   7.926398726552914   \n",
       "3                   0    false                34433                   0   \n",
       "4              125653     true            242466879                 821   \n",
       "\n",
       "                                               title                 rp_id  \n",
       "0                                            1055261               1055261  \n",
       "1                              2.1434868895738727E13  3.4868027980974376E7  \n",
       "2                               5.099511702024052E14  3.0890428629999075E7  \n",
       "3  \bChore: rewrite parseListConfig for a small pe...                  3282  \n",
       "4                                  🦆 extract the cdn             156648725  "
      ]
     },
     "execution_count": 23,
     "metadata": {},
     "output_type": "execute_result"
    }
   ],
   "source": [
    "spark.sql(\"\"\"\n",
    "SELECT * FROM pr_DF\n",
    "WHERE rp_id IN\n",
    "    (SELECT rp_id\n",
    "    FROM(\n",
    "        SELECT rp_id, CEIL(percentage * 10) AS bin\n",
    "        FROM(\n",
    "            SELECT DISTINCT rp_id, COUNT(CASE WHEN merged = \"true\" THEN 1 END) over (PARTITION BY rp_id)/COUNT(1) over (PARTITION BY rp_id) as percentage\n",
    "            FROM pr_DF\n",
    "        )\n",
    "    )\n",
    "    WHERE bin >= 4\n",
    "    )\n",
    "\"\"\").describe().toPandas()"
   ]
  },
  {
   "cell_type": "code",
   "execution_count": 24,
   "metadata": {},
   "outputs": [],
   "source": [
    "spark.sql(\"\"\"\n",
    "SELECT * FROM pr_DF\n",
    "WHERE rp_id IN\n",
    "    (SELECT rp_id\n",
    "    FROM(\n",
    "        SELECT rp_id, CEIL(percentage * 10) AS bin\n",
    "        FROM(\n",
    "            SELECT DISTINCT rp_id, COUNT(CASE WHEN merged = \"true\" THEN 1 END) over (PARTITION BY rp_id)/COUNT(1) over (PARTITION BY rp_id) as percentage\n",
    "            FROM pr_DF\n",
    "        )\n",
    "    )\n",
    "    WHERE bin >= 4\n",
    "    )\n",
    "\"\"\").createOrReplaceTempView('pr_DF')"
   ]
  },
  {
   "cell_type": "markdown",
   "metadata": {},
   "source": [
    "### 4.5 Remove repository which don't have 90% pull requests merged within hour, day, week and month.\n"
   ]
  },
  {
   "cell_type": "code",
   "execution_count": 25,
   "metadata": {},
   "outputs": [],
   "source": [
    "spark.sql(\"\"\"\n",
    "SELECT\n",
    "rp_id \n",
    "FROM(\n",
    "    SELECT rp_id, \n",
    "    within_hour_count/total as hour_ratio,\n",
    "    within_day_count/total as day_ratio,\n",
    "    within_week_count/total as week_ratio,\n",
    "    within_month_count/total as month_ratio\n",
    "    FROM(\n",
    "        SELECT\n",
    "        rp_id,\n",
    "        SUM(CASE WHEN latency = \"within_hour\" THEN 1 ELSE 0 END) as within_hour_count,\n",
    "        SUM(CASE WHEN latency = \"within_day\" THEN 1 ELSE 0 END) as within_day_count,\n",
    "        SUM(CASE WHEN latency = \"within_week\" THEN 1 ELSE 0 END) as within_week_count,\n",
    "        SUM(CASE WHEN latency = \"within_month\" THEN 1 ELSE 0 END) as within_month_count,\n",
    "        COUNT(1) as total\n",
    "        FROM(\n",
    "            SELECT rp_id, time_diff(created_time, merged_time) as latency\n",
    "            FROM pr_DF\n",
    "            WHERE merged = \"true\"\n",
    "        )\n",
    "        GROUP BY rp_id\n",
    "    )\n",
    ")\n",
    "WHERE (hour_ratio + day_ratio + week_ratio + month_ratio) >= 0.9 \n",
    "\"\"\").createOrReplaceTempView('repo_latency_group')"
   ]
  },
  {
   "cell_type": "code",
   "execution_count": 26,
   "metadata": {},
   "outputs": [],
   "source": [
    "spark.sql(\"\"\"\n",
    "SELECT *\n",
    "FROM pr_DF \n",
    "WHERE rp_id IN (SELECT * FROM repo_latency_group)\n",
    "\n",
    "\"\"\").createOrReplaceTempView('pr_DF')"
   ]
  },
  {
   "cell_type": "markdown",
   "metadata": {},
   "source": [
    "### 4.6 Latency distirbution after selection"
   ]
  },
  {
   "cell_type": "code",
   "execution_count": 27,
   "metadata": {},
   "outputs": [],
   "source": [
    "latency = spark.sql(\"\"\"\n",
    "SELECT year, time_diff(created_time, merged_time) as latency, COUNT(1) as count\n",
    "FROM(\n",
    "    SELECT (CASE\n",
    "        WHEN closed_time < \"2018-01-01\" THEN \"2017\"\n",
    "        ELSE \"2018\"\n",
    "        END\n",
    "    \n",
    "    ) as year, created_time, merged_time\n",
    "    FROM pr_DF\n",
    "    WHERE merged = \"true\"\n",
    ")\n",
    "GROUP BY year, latency\n",
    "ORDER BY year\n",
    "\"\"\").toPandas()"
   ]
  },
  {
   "cell_type": "code",
   "execution_count": 28,
   "metadata": {},
   "outputs": [
    {
     "data": {
      "image/png": "[encoded data removed]",
      "text/plain": [
       "<Figure size 549.75x432 with 1 Axes>"
      ]
     },
     "metadata": {
      "needs_background": "light"
     },
     "output_type": "display_data"
    }
   ],
   "source": [
    "g = sns.catplot(x=\"year\", y=\"count\", hue=\"latency\", data=latency, \n",
    "                hue_order = [\"instantly\", \"within_hour\",\"within_day\", \"within_week\",\"within_month\",\"within_quarter\",\"within_half_year\", \"within_year\", \"took_ages\"],\n",
    "                height=6, kind=\"bar\", palette=\"muted\")"
   ]
  },
  {
   "cell_type": "code",
   "execution_count": 29,
   "metadata": {},
   "outputs": [
    {
     "name": "stdout",
     "output_type": "stream",
     "text": [
      "+----------------+------+\n",
      "|         latency| count|\n",
      "+----------------+------+\n",
      "|      within_day|263989|\n",
      "|  within_quarter| 15074|\n",
      "|       took_ages|   297|\n",
      "|     within_week|162923|\n",
      "|       instantly|  8062|\n",
      "|     within_hour|109204|\n",
      "|    within_month| 63281|\n",
      "|within_half_year|  3316|\n",
      "|     within_year|  1258|\n",
      "+----------------+------+\n",
      "\n"
     ]
    }
   ],
   "source": [
    "latency = spark.sql(\"\"\"\n",
    "SELECT time_diff(created_time, merged_time) as latency, COUNT(1) as count\n",
    "FROM pr_DF\n",
    "WHERE merged = \"true\"\n",
    "GROUP BY latency\n",
    "\n",
    "\"\"\").show()"
   ]
  },
  {
   "cell_type": "markdown",
   "metadata": {},
   "source": [
    "### 4.7 Acceptance Rate after Selection"
   ]
  },
  {
   "cell_type": "code",
   "execution_count": 30,
   "metadata": {},
   "outputs": [
    {
     "data": {
      "text/plain": [
       "<matplotlib.axes._subplots.AxesSubplot at 0x7ff67f2f9748>"
      ]
     },
     "execution_count": 30,
     "metadata": {},
     "output_type": "execute_result"
    },
    {
     "data": {
      "image/png": "[encoded data removed]",
      "text/plain": [
       "<Figure size 720x504 with 1 Axes>"
      ]
     },
     "metadata": {
      "needs_background": "light"
     },
     "output_type": "display_data"
    }
   ],
   "source": [
    "spark.sql(\"\"\"\n",
    "SELECT DISTINCT year, merged, COUNT(1) over (PARTITION BY year, merged)/COUNT(1) over (PARTITION BY year) as percentage\n",
    "FROM(\n",
    "    SELECT (CASE\n",
    "        WHEN closed_time < \"2018-01-01\" THEN \"2017\"\n",
    "        ELSE \"2018\"\n",
    "        END \n",
    "    \n",
    "    ) as year, merged\n",
    "    FROM pr_DF\n",
    ")\n",
    "\"\"\").toPandas().pivot(index='year', columns='merged', values='percentage').loc[:,['true','false']].plot.bar(stacked=True, figsize=(10,7))"
   ]
  },
  {
   "cell_type": "code",
   "execution_count": 31,
   "metadata": {},
   "outputs": [
    {
     "data": {
      "text/html": [
       "<div>\n",
       "<style scoped>\n",
       "    .dataframe tbody tr th:only-of-type {\n",
       "        vertical-align: middle;\n",
       "    }\n",
       "\n",
       "    .dataframe tbody tr th {\n",
       "        vertical-align: top;\n",
       "    }\n",
       "\n",
       "    .dataframe thead th {\n",
       "        text-align: right;\n",
       "    }\n",
       "</style>\n",
       "<table border=\"1\" class=\"dataframe\">\n",
       "  <thead>\n",
       "    <tr style=\"text-align: right;\">\n",
       "      <th></th>\n",
       "      <th>summary</th>\n",
       "      <th>action</th>\n",
       "      <th>additions</th>\n",
       "      <th>author_id</th>\n",
       "      <th>body</th>\n",
       "      <th>comments</th>\n",
       "      <th>commits</th>\n",
       "      <th>deletions</th>\n",
       "      <th>files_change</th>\n",
       "      <th>merged</th>\n",
       "      <th>pr_id</th>\n",
       "      <th>review_comments</th>\n",
       "      <th>title</th>\n",
       "      <th>rp_id</th>\n",
       "    </tr>\n",
       "  </thead>\n",
       "  <tbody>\n",
       "    <tr>\n",
       "      <th>0</th>\n",
       "      <td>count</td>\n",
       "      <td>774502</td>\n",
       "      <td>774502</td>\n",
       "      <td>774502</td>\n",
       "      <td>774502</td>\n",
       "      <td>774502</td>\n",
       "      <td>774502</td>\n",
       "      <td>774502</td>\n",
       "      <td>774502</td>\n",
       "      <td>774502</td>\n",
       "      <td>774502</td>\n",
       "      <td>774502</td>\n",
       "      <td>774502</td>\n",
       "      <td>774502</td>\n",
       "    </tr>\n",
       "    <tr>\n",
       "      <th>1</th>\n",
       "      <td>mean</td>\n",
       "      <td>None</td>\n",
       "      <td>1234.6454625036474</td>\n",
       "      <td>7138707.250058748</td>\n",
       "      <td>478.7172815564066</td>\n",
       "      <td>2.58610048779732</td>\n",
       "      <td>6.85801327820974</td>\n",
       "      <td>689.3032077386501</td>\n",
       "      <td>16.191821325187025</td>\n",
       "      <td>None</td>\n",
       "      <td>1.6455315540014875E8</td>\n",
       "      <td>2.0027863065556963</td>\n",
       "      <td>3.5456219524355404E7</td>\n",
       "      <td>3.769980948876569E7</td>\n",
       "    </tr>\n",
       "    <tr>\n",
       "      <th>2</th>\n",
       "      <td>stddev</td>\n",
       "      <td>None</td>\n",
       "      <td>47504.896367436384</td>\n",
       "      <td>9022770.516413689</td>\n",
       "      <td>1398.2595055259171</td>\n",
       "      <td>5.468995182016576</td>\n",
       "      <td>113.97773923266878</td>\n",
       "      <td>29900.122482971183</td>\n",
       "      <td>325.28457582395515</td>\n",
       "      <td>None</td>\n",
       "      <td>4.226029005769833E7</td>\n",
       "      <td>8.023499025859282</td>\n",
       "      <td>6.608456063902555E8</td>\n",
       "      <td>3.1322573533145275E7</td>\n",
       "    </tr>\n",
       "    <tr>\n",
       "      <th>3</th>\n",
       "      <td>min</td>\n",
       "      <td>closed</td>\n",
       "      <td>0</td>\n",
       "      <td>4</td>\n",
       "      <td>0</td>\n",
       "      <td>0</td>\n",
       "      <td>0</td>\n",
       "      <td>0</td>\n",
       "      <td>0</td>\n",
       "      <td>false</td>\n",
       "      <td>1213020</td>\n",
       "      <td>0</td>\n",
       "      <td>\bChore: rewrite parseListConfig for a small pe...</td>\n",
       "      <td>8514</td>\n",
       "    </tr>\n",
       "    <tr>\n",
       "      <th>4</th>\n",
       "      <td>max</td>\n",
       "      <td>closed</td>\n",
       "      <td>14000792</td>\n",
       "      <td>46401660</td>\n",
       "      <td>232314</td>\n",
       "      <td>565</td>\n",
       "      <td>10000</td>\n",
       "      <td>7813435</td>\n",
       "      <td>125653</td>\n",
       "      <td>true</td>\n",
       "      <td>242466879</td>\n",
       "      <td>821</td>\n",
       "      <td>🦄 Added /edit/ redirect to admin for post prev...</td>\n",
       "      <td>156648725</td>\n",
       "    </tr>\n",
       "  </tbody>\n",
       "</table>\n",
       "</div>"
      ],
      "text/plain": [
       "  summary  action           additions          author_id                body  \\\n",
       "0   count  774502              774502             774502              774502   \n",
       "1    mean    None  1234.6454625036474  7138707.250058748   478.7172815564066   \n",
       "2  stddev    None  47504.896367436384  9022770.516413689  1398.2595055259171   \n",
       "3     min  closed                   0                  4                   0   \n",
       "4     max  closed            14000792           46401660              232314   \n",
       "\n",
       "            comments             commits           deletions  \\\n",
       "0             774502              774502              774502   \n",
       "1   2.58610048779732    6.85801327820974   689.3032077386501   \n",
       "2  5.468995182016576  113.97773923266878  29900.122482971183   \n",
       "3                  0                   0                   0   \n",
       "4                565               10000             7813435   \n",
       "\n",
       "         files_change  merged                 pr_id     review_comments  \\\n",
       "0              774502  774502                774502              774502   \n",
       "1  16.191821325187025    None  1.6455315540014875E8  2.0027863065556963   \n",
       "2  325.28457582395515    None   4.226029005769833E7   8.023499025859282   \n",
       "3                   0   false               1213020                   0   \n",
       "4              125653    true             242466879                 821   \n",
       "\n",
       "                                               title                 rp_id  \n",
       "0                                             774502                774502  \n",
       "1                               3.5456219524355404E7   3.769980948876569E7  \n",
       "2                                6.608456063902555E8  3.1322573533145275E7  \n",
       "3  \bChore: rewrite parseListConfig for a small pe...                  8514  \n",
       "4  🦄 Added /edit/ redirect to admin for post prev...             156648725  "
      ]
     },
     "execution_count": 31,
     "metadata": {},
     "output_type": "execute_result"
    }
   ],
   "source": [
    "spark.sql(\"\"\"\n",
    "SELECT * FROM pr_DF\n",
    "\"\"\").describe().toPandas()"
   ]
  },
  {
   "cell_type": "markdown",
   "metadata": {},
   "source": [
    "# 5. Features and labels"
   ]
  },
  {
   "cell_type": "markdown",
   "metadata": {},
   "source": [
    "### 5.1 UDF Search for title for \"fix\" or \"bug\" identify pull request as bug fix"
   ]
  },
  {
   "cell_type": "code",
   "execution_count": 32,
   "metadata": {},
   "outputs": [
    {
     "data": {
      "text/plain": [
       "<function __main__.bug_fix(string)>"
      ]
     },
     "execution_count": 32,
     "metadata": {},
     "output_type": "execute_result"
    }
   ],
   "source": [
    "import re\n",
    "regexp =re.compile(r\"(?:^|\\W)fix(?:$|\\W)\",re.I)\n",
    "regexp2 = re.compile(r\"(?:^|\\W)bug(?:$|\\W)\",re.I)\n",
    "def bug_fix(string):\n",
    "    return bool(re.search(regexp, string)) or bool(re.search(regexp2, string))\n",
    "\n",
    "spark.udf.register(\"bug_fix\", bug_fix, T.BooleanType())"
   ]
  },
  {
   "cell_type": "markdown",
   "metadata": {},
   "source": [
    "### 5.2 UDF Convert merged status string to boolean (\"true\"/\"false\") to (True/False)"
   ]
  },
  {
   "cell_type": "code",
   "execution_count": 33,
   "metadata": {},
   "outputs": [
    {
     "data": {
      "text/plain": [
       "<function __main__.merged_status(string)>"
      ]
     },
     "execution_count": 33,
     "metadata": {},
     "output_type": "execute_result"
    }
   ],
   "source": [
    "def merged_status(string):\n",
    "    return string == \"true\"\n",
    "spark.udf.register(\"merged_status\", merged_status, T.BooleanType())"
   ]
  },
  {
   "cell_type": "markdown",
   "metadata": {},
   "source": [
    "### 5.3 Extract features and label from dataframe\n",
    "- Some of the features proposed in the paper are not directly available in dataset"
   ]
  },
  {
   "cell_type": "code",
   "execution_count": 34,
   "metadata": {},
   "outputs": [
    {
     "name": "stdout",
     "output_type": "stream",
     "text": [
      "root\n",
      " |-- pr_exp: long (nullable = false)\n",
      " |-- commit_exp: long (nullable = false)\n",
      " |-- body: long (nullable = true)\n",
      " |-- create_year: integer (nullable = true)\n",
      " |-- create_month: integer (nullable = true)\n",
      " |-- create_week: integer (nullable = true)\n",
      " |-- create_day: integer (nullable = true)\n",
      " |-- reviews: integer (nullable = true)\n",
      " |-- commits: integer (nullable = true)\n",
      " |-- files_change: long (nullable = true)\n",
      " |-- fix: boolean (nullable = true)\n",
      " |-- repo_popularity: long (nullable = false)\n",
      " |-- closed_time: timestamp (nullable = true)\n",
      " |-- merged: boolean (nullable = true)\n",
      "\n"
     ]
    }
   ],
   "source": [
    "spark.sql(\"\"\"\n",
    "SELECT\n",
    "\n",
    "COUNT(1) over (PARTITION BY author_id ORDER BY closed_time ROWS BETWEEN UNBOUNDED PRECEDING AND 1 PRECEDING) AS pr_exp, \n",
    "COUNT(CASE WHEN merged = \"true\" THEN 1 END) over (PARTITION BY author_id ORDER BY closed_time ROWS BETWEEN UNBOUNDED PRECEDING AND 1 PRECEDING) AS commit_exp,\n",
    "body,\n",
    "YEAR(created_time) as create_year,\n",
    "MONTH(created_time) as create_month,\n",
    "WEEKOFYEAR(created_time) as create_week,\n",
    "DAYOFYEAR(created_time) as create_day,\n",
    "(comments + review_comments) as reviews,\n",
    "commits,\n",
    "files_change,\n",
    "bug_fix(title) as fix,\n",
    "COUNT(CASE WHEN merged = \"true\" THEN 1 END) over (PARTITION BY rp_id ORDER BY closed_time ROWS BETWEEN UNBOUNDED PRECEDING AND 1 PRECEDING) as repo_popularity, \n",
    "closed_time,\n",
    "merged_status(merged) as merged\n",
    "\n",
    "FROM pr_DF\n",
    "\"\"\").printSchema()"
   ]
  },
  {
   "cell_type": "code",
   "execution_count": 36,
   "metadata": {},
   "outputs": [],
   "source": [
    "accept_DF = spark.sql(\"\"\"\n",
    "SELECT\n",
    "\n",
    "COUNT(1) over (PARTITION BY author_id ORDER BY closed_time ROWS BETWEEN UNBOUNDED PRECEDING AND 1 PRECEDING) AS pr_exp, \n",
    "COUNT(CASE WHEN merged = \"true\" THEN 1 END) over (PARTITION BY author_id ORDER BY closed_time ROWS BETWEEN UNBOUNDED PRECEDING AND 1 PRECEDING) AS commit_exp,\n",
    "body,\n",
    "YEAR(created_time) as create_year,\n",
    "MONTH(created_time) as create_month,\n",
    "WEEKOFYEAR(created_time) as create_week,\n",
    "DAYOFYEAR(created_time) as create_day,\n",
    "(comments + review_comments) as reviews,\n",
    "commits,\n",
    "files_change,\n",
    "bug_fix(title) as fix,\n",
    "COUNT(CASE WHEN merged = \"true\" THEN 1 END) over (PARTITION BY rp_id ORDER BY closed_time ROWS BETWEEN UNBOUNDED PRECEDING AND 1 PRECEDING) as repo_popularity, \n",
    "closed_time,\n",
    "merged_status(merged) as merged\n",
    "\n",
    "FROM pr_DF\n",
    "\"\"\")"
   ]
  },
  {
   "cell_type": "markdown",
   "metadata": {},
   "source": [
    "## 6. Pull Request Acceptance Prediction"
   ]
  },
  {
   "cell_type": "code",
   "execution_count": 37,
   "metadata": {},
   "outputs": [],
   "source": [
    "# accept_DF.write.mode('overwrite').parquet('accept_parquet3')"
   ]
  },
  {
   "cell_type": "code",
   "execution_count": 21,
   "metadata": {},
   "outputs": [],
   "source": [
    "# accept_DF = spark.read.parquet('accept_parquet3')"
   ]
  },
  {
   "cell_type": "markdown",
   "metadata": {},
   "source": [
    "### 6.1 Prepare dataset for ML pipeline"
   ]
  },
  {
   "cell_type": "code",
   "execution_count": 22,
   "metadata": {},
   "outputs": [],
   "source": [
    "accept_DF = accept_DF.withColumn('bug', accept_DF.fix.cast('integer'))"
   ]
  },
  {
   "cell_type": "code",
   "execution_count": 23,
   "metadata": {},
   "outputs": [],
   "source": [
    "categoricalColumns = []\n",
    "numericCols = ['pr_exp', 'commit_exp', 'body','bug','create_year','create_month','create_week','create_day','reviews','commits','files_change','repo_popularity']\n",
    "\n",
    "stages = []\n",
    "\n",
    "assemblerInputs = numericCols\n",
    "assembler = VectorAssembler(inputCols=assemblerInputs, outputCol=\"features\")\n",
    "stages += [assembler]"
   ]
  },
  {
   "cell_type": "code",
   "execution_count": 24,
   "metadata": {},
   "outputs": [],
   "source": [
    "accept_DF = accept_DF.withColumn('label', accept_DF.merged.cast('integer'))"
   ]
  },
  {
   "cell_type": "code",
   "execution_count": 25,
   "metadata": {},
   "outputs": [
    {
     "name": "stdout",
     "output_type": "stream",
     "text": [
      "root\n",
      " |-- pr_exp: long (nullable = true)\n",
      " |-- commit_exp: long (nullable = true)\n",
      " |-- body: long (nullable = true)\n",
      " |-- create_year: integer (nullable = true)\n",
      " |-- create_month: integer (nullable = true)\n",
      " |-- create_week: integer (nullable = true)\n",
      " |-- create_day: integer (nullable = true)\n",
      " |-- reviews: integer (nullable = true)\n",
      " |-- commits: integer (nullable = true)\n",
      " |-- files_change: long (nullable = true)\n",
      " |-- fix: boolean (nullable = true)\n",
      " |-- repo_popularity: long (nullable = true)\n",
      " |-- closed_time: timestamp (nullable = true)\n",
      " |-- merged: boolean (nullable = true)\n",
      " |-- bug: integer (nullable = true)\n",
      " |-- label: integer (nullable = true)\n",
      "\n"
     ]
    }
   ],
   "source": [
    "accept_DF.printSchema()"
   ]
  },
  {
   "cell_type": "code",
   "execution_count": 26,
   "metadata": {},
   "outputs": [
    {
     "data": {
      "text/plain": [
       "[VectorAssembler_4263ab2821f8d5c0b6b9]"
      ]
     },
     "execution_count": 26,
     "metadata": {},
     "output_type": "execute_result"
    }
   ],
   "source": [
    "stages"
   ]
  },
  {
   "cell_type": "code",
   "execution_count": 27,
   "metadata": {},
   "outputs": [
    {
     "name": "stdout",
     "output_type": "stream",
     "text": [
      "root\n",
      " |-- label: integer (nullable = true)\n",
      " |-- features: vector (nullable = true)\n",
      " |-- closed_time: timestamp (nullable = true)\n",
      "\n"
     ]
    }
   ],
   "source": [
    "pipeline = Pipeline(stages = stages)\n",
    "pipelineModel = pipeline.fit(accept_DF)\n",
    "accept_DF_transformed = pipelineModel.transform(accept_DF)\n",
    "\n",
    "selectedCols = ['label','features'] +['closed_time']\n",
    "accept_DF_transformed = accept_DF_transformed.select(selectedCols)\n",
    "accept_DF_transformed.printSchema()\n",
    "accept_DF_transformed.createOrReplaceTempView('acceptance_DF')"
   ]
  },
  {
   "cell_type": "markdown",
   "metadata": {},
   "source": [
    "### 6.2 Split the dataset every 3 months"
   ]
  },
  {
   "cell_type": "code",
   "execution_count": 28,
   "metadata": {},
   "outputs": [],
   "source": [
    "accept_DF_transformed_Q1 = spark.sql(\"\"\"\n",
    "SELECT features, label FROM acceptance_DF\n",
    "WHERE closed_time BETWEEN '2017-01-01' AND '2017-03-31'\n",
    "\"\"\")"
   ]
  },
  {
   "cell_type": "code",
   "execution_count": 29,
   "metadata": {},
   "outputs": [],
   "source": [
    "accept_DF_transformed_Q2 = spark.sql(\"\"\"\n",
    "SELECT features, label FROM acceptance_DF\n",
    "WHERE closed_time BETWEEN '2017-04-01' AND '2017-06-30'\n",
    "\"\"\")"
   ]
  },
  {
   "cell_type": "code",
   "execution_count": 30,
   "metadata": {},
   "outputs": [],
   "source": [
    "accept_DF_transformed_Q3 = spark.sql(\"\"\"\n",
    "SELECT features, label FROM acceptance_DF\n",
    "WHERE closed_time BETWEEN '2017-07-01' AND '2017-09-30'\n",
    "\"\"\")"
   ]
  },
  {
   "cell_type": "code",
   "execution_count": 31,
   "metadata": {},
   "outputs": [],
   "source": [
    "accept_DF_transformed_Q4 = spark.sql(\"\"\"\n",
    "SELECT features, label FROM acceptance_DF\n",
    "WHERE closed_time BETWEEN '2017-10-01' AND '2017-12-31'\n",
    "\"\"\")"
   ]
  },
  {
   "cell_type": "code",
   "execution_count": 32,
   "metadata": {},
   "outputs": [],
   "source": [
    "accept_DF_transformed_Q5 = spark.sql(\"\"\"\n",
    "SELECT features, label FROM acceptance_DF\n",
    "WHERE closed_time BETWEEN '2018-01-01' AND '2018-03-31'\n",
    "\"\"\")"
   ]
  },
  {
   "cell_type": "code",
   "execution_count": 33,
   "metadata": {},
   "outputs": [],
   "source": [
    "accept_DF_transformed_Q6 = spark.sql(\"\"\"\n",
    "SELECT features, label FROM acceptance_DF\n",
    "WHERE closed_time BETWEEN '2018-04-01' AND '2018-06-30'\n",
    "\"\"\")"
   ]
  },
  {
   "cell_type": "code",
   "execution_count": 34,
   "metadata": {},
   "outputs": [],
   "source": [
    "accept_DF_transformed_Q7 = spark.sql(\"\"\"\n",
    "SELECT features, label FROM acceptance_DF\n",
    "WHERE closed_time BETWEEN '2018-07-01' AND '2018-09-30'\n",
    "\"\"\")"
   ]
  },
  {
   "cell_type": "code",
   "execution_count": 35,
   "metadata": {},
   "outputs": [],
   "source": [
    "accept_DF_transformed_Q8 = spark.sql(\"\"\"\n",
    "SELECT features, label FROM acceptance_DF\n",
    "WHERE closed_time > '2018-10-01'\n",
    "\"\"\")"
   ]
  },
  {
   "cell_type": "markdown",
   "metadata": {},
   "source": [
    "### 6.3 Split Each Quarter data into training and testing set"
   ]
  },
  {
   "cell_type": "code",
   "execution_count": 36,
   "metadata": {},
   "outputs": [],
   "source": [
    "train1, test1 = accept_DF_transformed_Q1.randomSplit([0.7, 0.3], seed = 1000)\n",
    "train2, test2 = accept_DF_transformed_Q2.randomSplit([0.7, 0.3], seed = 1000)\n",
    "train3, test3 = accept_DF_transformed_Q3.randomSplit([0.7, 0.3], seed = 1000)\n",
    "train4, test4 = accept_DF_transformed_Q4.randomSplit([0.7, 0.3], seed = 1000)\n",
    "train5, test5 = accept_DF_transformed_Q5.randomSplit([0.7, 0.3], seed = 1000)\n",
    "train6, test6 = accept_DF_transformed_Q6.randomSplit([0.7, 0.3], seed = 1000)\n",
    "train7, test7 = accept_DF_transformed_Q7.randomSplit([0.7, 0.3], seed = 1000)\n",
    "train8, test8 = accept_DF_transformed_Q8.randomSplit([0.7, 0.3], seed = 1000)"
   ]
  },
  {
   "cell_type": "markdown",
   "metadata": {},
   "source": [
    "### 6.4 Basic model numTrees = 100"
   ]
  },
  {
   "cell_type": "code",
   "execution_count": 37,
   "metadata": {},
   "outputs": [],
   "source": [
    "rf = RandomForestClassifier(featuresCol = 'features', labelCol = 'label', numTrees = 100, seed = 1000)    "
   ]
  },
  {
   "cell_type": "code",
   "execution_count": 38,
   "metadata": {},
   "outputs": [],
   "source": [
    "rf_model1 = rf.fit(train1)\n",
    "rf_model2 = rf.fit(train2)\n",
    "rf_model3 = rf.fit(train3)\n",
    "rf_model4 = rf.fit(train4)\n",
    "rf_model5 = rf.fit(train5)\n",
    "rf_model6 = rf.fit(train6)\n",
    "rf_model7 = rf.fit(train7)\n",
    "rf_model8 = rf.fit(train8)"
   ]
  },
  {
   "cell_type": "markdown",
   "metadata": {},
   "source": [
    "#### 6.4.1 Evaluate model with areaUnderPR"
   ]
  },
  {
   "cell_type": "code",
   "execution_count": 39,
   "metadata": {},
   "outputs": [
    {
     "name": "stdout",
     "output_type": "stream",
     "text": [
      "+-------+--------------------+\n",
      "|summary|               value|\n",
      "+-------+--------------------+\n",
      "|  count|                   8|\n",
      "|   mean|  0.9190235510468483|\n",
      "| stddev|0.006288606824150432|\n",
      "|    min|           0.9103952|\n",
      "|    max|           0.9284395|\n",
      "+-------+--------------------+\n",
      "\n"
     ]
    }
   ],
   "source": [
    "evaluator = BinaryClassificationEvaluator().setMetricName(\"areaUnderPR\")\n",
    "\n",
    "evaluator_scores = [evaluator.evaluate(rf_model1.transform(test1)),\n",
    "                   evaluator.evaluate(rf_model2.transform(test2)),\n",
    "                   evaluator.evaluate(rf_model3.transform(test3)),\n",
    "                   evaluator.evaluate(rf_model4.transform(test4)),\n",
    "                   evaluator.evaluate(rf_model5.transform(test5)),\n",
    "                   evaluator.evaluate(rf_model6.transform(test6)),\n",
    "                   evaluator.evaluate(rf_model7.transform(test7)),\n",
    "                   evaluator.evaluate(rf_model8.transform(test8))]\n",
    "\n",
    "spark.createDataFrame(evaluator_scores, T.FloatType()).describe().show()"
   ]
  },
  {
   "cell_type": "markdown",
   "metadata": {},
   "source": [
    "#### 6.4.2 Feature Importance heatmap\n",
    "- Darker color higher importance"
   ]
  },
  {
   "cell_type": "code",
   "execution_count": 40,
   "metadata": {},
   "outputs": [],
   "source": [
    "\n",
    "data_frame_columns = ['pr_exp', 'commit_exp', 'body','bug','create_year','create_month','create_week','create_day','reviews','commits','files_change','repo_popularity']\n",
    "\n",
    "important_feature_array = [rf_model1.featureImportances.toArray(),\n",
    "                          rf_model2.featureImportances.toArray(),\n",
    "                          rf_model3.featureImportances.toArray(),\n",
    "                          rf_model4.featureImportances.toArray(),\n",
    "                          rf_model5.featureImportances.toArray(),\n",
    "                          rf_model6.featureImportances.toArray(),\n",
    "                          rf_model7.featureImportances.toArray(),\n",
    "                          rf_model8.featureImportances.toArray()]\n",
    "quarters = ['2017Q1', \n",
    "            '2017Q2',\n",
    "            '2017Q3',\n",
    "            '2017Q4',\n",
    "            '2018Q1',\n",
    "            '2018Q2',\n",
    "            '2018Q3',\n",
    "            '2018Q4']\n",
    "fi_df = pd.DataFrame(important_feature_array, index = quarters, columns =  data_frame_columns ).T"
   ]
  },
  {
   "cell_type": "code",
   "execution_count": 41,
   "metadata": {},
   "outputs": [
    {
     "data": {
      "image/png": "[encoded data removed]",
      "text/plain": [
       "<Figure size 432x288 with 2 Axes>"
      ]
     },
     "metadata": {
      "needs_background": "light"
     },
     "output_type": "display_data"
    }
   ],
   "source": [
    "g = sns.heatmap(fi_df, linewidth = 0.5, cmap = 'Greys')"
   ]
  },
  {
   "cell_type": "markdown",
   "metadata": {},
   "source": [
    "#### 6.4.3 Feature Importance Average Rank\n",
    "- Smaller number means higher importance"
   ]
  },
  {
   "cell_type": "code",
   "execution_count": 42,
   "metadata": {},
   "outputs": [
    {
     "name": "stdout",
     "output_type": "stream",
     "text": [
      "+---------------+--------+\n",
      "|feature_name   |avg_rank|\n",
      "+---------------+--------+\n",
      "|commit_exp     |1.0     |\n",
      "|create_week    |3.5     |\n",
      "|pr_exp         |4.0     |\n",
      "|create_month   |4.125   |\n",
      "|create_year    |4.25    |\n",
      "|files_change   |5.0     |\n",
      "|create_day     |6.875   |\n",
      "|reviews        |8.125   |\n",
      "|commits        |8.125   |\n",
      "|repo_popularity|10.375  |\n",
      "|body           |10.625  |\n",
      "|bug            |12.0    |\n",
      "+---------------+--------+\n",
      "\n"
     ]
    }
   ],
   "source": [
    "rf_output = [[important_feature_array[i].tolist()[j], \n",
    "              quarters[i],\n",
    "              data_frame_columns[j]] \n",
    "             for i in range(len(quarters)) for j in range(len(data_frame_columns))]\n",
    "\n",
    "cSchema = T.StructType([T.StructField(\"feature_importance\", T.DoubleType())\\\n",
    "                      ,T.StructField(\"quarter\", T.StringType())\\\n",
    "                      ,T.StructField(\"feature_name\", T.StringType())])\n",
    "fi_DF = spark.createDataFrame(rf_output,schema = cSchema)\n",
    "\n",
    "fi_DF.createOrReplaceTempView('fi_DF')\n",
    "\n",
    "spark.sql(\"\"\"\n",
    "SELECT feature_name, AVG(importance_RANK) as avg_rank\n",
    "FROM\n",
    "    (SELECT feature_name, quarter, DENSE_RANK() over (PARTITION BY quarter ORDER BY feature_importance DESC) as importance_rank\n",
    "    FROM fi_DF\n",
    "    ORDER BY quarter)\n",
    "GROUP BY feature_name\n",
    "ORDER BY avg_rank\n",
    "\"\"\").show(12, False)"
   ]
  },
  {
   "cell_type": "markdown",
   "metadata": {},
   "source": [
    "### 6.5 Hyperparameter Tuning and CrossValidation"
   ]
  },
  {
   "cell_type": "code",
   "execution_count": 46,
   "metadata": {},
   "outputs": [],
   "source": [
    "rf = RandomForestClassifier(featuresCol = 'features', labelCol = 'label', seed = 1000)    \n",
    "\n",
    "paramGrid = (ParamGridBuilder()\n",
    "             .addGrid(rf.numTrees, [10, 100, 200])\n",
    "             .build())\n",
    "\n",
    "evaluator = BinaryClassificationEvaluator().setMetricName(\"areaUnderPR\")\n",
    "\n",
    "cv = CrossValidator(estimator=rf, estimatorParamMaps=paramGrid, evaluator=evaluator, numFolds= 10)"
   ]
  },
  {
   "cell_type": "code",
   "execution_count": 36,
   "metadata": {},
   "outputs": [],
   "source": [
    "rf_model1 = cv.fit(train1)\n",
    "rf_model2 = cv.fit(train2)\n",
    "rf_model3 = cv.fit(train3)\n",
    "rf_model4 = cv.fit(train4)\n",
    "rf_model5 = cv.fit(train5)\n",
    "rf_model6 = cv.fit(train6)\n",
    "rf_model7 = cv.fit(train7)\n",
    "rf_model8 = cv.fit(train8)"
   ]
  },
  {
   "cell_type": "code",
   "execution_count": 37,
   "metadata": {},
   "outputs": [],
   "source": [
    "evaluator = BinaryClassificationEvaluator().setMetricName(\"areaUnderPR\")"
   ]
  },
  {
   "cell_type": "markdown",
   "metadata": {},
   "source": [
    "#### 6.5.1 Evaluate with areaUnderPR"
   ]
  },
  {
   "cell_type": "code",
   "execution_count": 38,
   "metadata": {},
   "outputs": [],
   "source": [
    "evaluator_scores = [evaluator.evaluate(rf_model1.bestModel.transform(test1)),\n",
    "                   evaluator.evaluate(rf_model2.bestModel.transform(test2)),\n",
    "                   evaluator.evaluate(rf_model3.bestModel.transform(test3)),\n",
    "                   evaluator.evaluate(rf_model4.bestModel.transform(test4)),\n",
    "                   evaluator.evaluate(rf_model5.bestModel.transform(test5)),\n",
    "                   evaluator.evaluate(rf_model6.bestModel.transform(test6)),\n",
    "                   evaluator.evaluate(rf_model7.bestModel.transform(test7)),\n",
    "                   evaluator.evaluate(rf_model8.bestModel.transform(test8))]"
   ]
  },
  {
   "cell_type": "code",
   "execution_count": 39,
   "metadata": {},
   "outputs": [
    {
     "name": "stdout",
     "output_type": "stream",
     "text": [
      "+-------+-------------------+\n",
      "|summary|              value|\n",
      "+-------+-------------------+\n",
      "|  count|                  8|\n",
      "|   mean| 0.9195426255464554|\n",
      "| stddev|0.00644019855023968|\n",
      "|    min|          0.9098814|\n",
      "|    max|          0.9285082|\n",
      "+-------+-------------------+\n",
      "\n"
     ]
    }
   ],
   "source": [
    "spark.createDataFrame(evaluator_scores, T.FloatType()).describe().show()"
   ]
  },
  {
   "cell_type": "markdown",
   "metadata": {},
   "source": [
    "#### 6.5.2 Most important features\n",
    "- according to https://spark.apache.org/docs/latest/api/python/pyspark.ml.html#pyspark.ml.classification.RandomForestClassifier\n",
    "- The important feature are determined by Gini importance\n",
    "- In single tree, importance(feature j) = sum (over nodes which split on feature j) of the gain, where gain is scaled by the number of instances passing through node\n",
    "- In random forest is each feature’s importance is the average of its importance across all trees in the ensemble\n",
    "- Values are normalized to sum up to 1"
   ]
  },
  {
   "cell_type": "code",
   "execution_count": 46,
   "metadata": {},
   "outputs": [],
   "source": [
    "data_frame_columns = ['pr_exp', 'commit_exp', 'body','bug','create_year','create_month','create_week','create_day','reviews','commits','files_change','repo_popularity']\n",
    "important_feature_array = [rf_model1.bestModel.featureImportances.toArray(),\n",
    "                          rf_model2.bestModel.featureImportances.toArray(),\n",
    "                          rf_model3.bestModel.featureImportances.toArray(),\n",
    "                          rf_model4.bestModel.featureImportances.toArray(),\n",
    "                          rf_model5.bestModel.featureImportances.toArray(),\n",
    "                          rf_model6.bestModel.featureImportances.toArray(),\n",
    "                          rf_model7.bestModel.featureImportances.toArray(),\n",
    "                          rf_model8.bestModel.featureImportances.toArray()]\n",
    "quarters = ['2017Q1', \n",
    "            '2017Q2',\n",
    "            '2017Q3',\n",
    "            '2017Q4',\n",
    "            '2018Q1',\n",
    "            '2018Q2',\n",
    "            '2018Q3',\n",
    "            '2018Q4']\n",
    "fi_df = pd.DataFrame(important_feature_array, index = quarters, columns =  data_frame_columns ).T\n",
    "\n",
    "fi_DF.createOrReplaceTempView('fi_DF')"
   ]
  },
  {
   "cell_type": "markdown",
   "metadata": {},
   "source": [
    "#### 6.5.3 Feature importance heatmap\n",
    "- darker the color higher importance"
   ]
  },
  {
   "cell_type": "code",
   "execution_count": 48,
   "metadata": {},
   "outputs": [
    {
     "data": {
      "image/png": "[encoded data removed]",
      "text/plain": [
       "<Figure size 432x288 with 2 Axes>"
      ]
     },
     "metadata": {
      "needs_background": "light"
     },
     "output_type": "display_data"
    }
   ],
   "source": [
    "g = sns.heatmap(fi_df, linewidth = 0.5, cmap = 'Greys')"
   ]
  },
  {
   "cell_type": "markdown",
   "metadata": {},
   "source": [
    "#### 6.5.4 Most important feature across 2017-2018\n",
    "- based on each feature's importance rank in each quarter\n",
    "- ORDER BY average rank over the 2 years\n",
    " "
   ]
  },
  {
   "cell_type": "code",
   "execution_count": 53,
   "metadata": {},
   "outputs": [
    {
     "name": "stdout",
     "output_type": "stream",
     "text": [
      "+---------------+--------+\n",
      "|feature_name   |avg_rank|\n",
      "+---------------+--------+\n",
      "|commit_exp     |1.0     |\n",
      "|create_week    |3.25    |\n",
      "|pr_exp         |3.75    |\n",
      "|create_month   |4.25    |\n",
      "|create_year    |4.5     |\n",
      "|files_change   |5.375   |\n",
      "|create_day     |6.625   |\n",
      "|reviews        |8.125   |\n",
      "|commits        |8.125   |\n",
      "|body           |10.5    |\n",
      "|repo_popularity|10.5    |\n",
      "|bug            |12.0    |\n",
      "+---------------+--------+\n",
      "\n"
     ]
    }
   ],
   "source": [
    "rf_output = [[important_feature_array[i].tolist()[j], \n",
    "              quarters[i],\n",
    "              data_frame_columns[j]] \n",
    "             for i in range(len(quarters)) for j in range(len(data_frame_columns))]\n",
    "\n",
    "cSchema = T.StructType([T.StructField(\"feature_importance\", T.DoubleType())\\\n",
    "                      ,T.StructField(\"quarter\", T.StringType())\\\n",
    "                      ,T.StructField(\"feature_name\", T.StringType())])\n",
    "fi_DF = spark.createDataFrame(rf_output,schema = cSchema)\n",
    "\n",
    "fi_DF.createOrReplaceTempView('fi_DF')\n",
    "\n",
    "spark.sql(\"\"\"\n",
    "SELECT feature_name, AVG(importance_RANK) as avg_rank\n",
    "FROM\n",
    "    (SELECT feature_name, quarter, DENSE_RANK() over (PARTITION BY quarter ORDER BY feature_importance DESC) as importance_rank\n",
    "    FROM fi_DF\n",
    "    ORDER BY quarter)\n",
    "GROUP BY feature_name\n",
    "ORDER BY avg_rank\n",
    "\"\"\").show(12, False)"
   ]
  },
  {
   "cell_type": "markdown",
   "metadata": {},
   "source": [
    "# 7. Latency Prediction"
   ]
  },
  {
   "cell_type": "code",
   "execution_count": 121,
   "metadata": {},
   "outputs": [],
   "source": [
    "latency_DF = spark.sql(\"\"\"\n",
    "SELECT\n",
    "\n",
    "COUNT(1) over (PARTITION BY author_id ORDER BY closed_time ROWS BETWEEN UNBOUNDED PRECEDING AND 1 PRECEDING) AS pr_exp, \n",
    "COUNT(CASE WHEN merged = \"true\" THEN 1 END) over (PARTITION BY author_id ORDER BY closed_time ROWS BETWEEN UNBOUNDED PRECEDING AND 1 PRECEDING) AS commit_exp,\n",
    "body,\n",
    "YEAR(created_time) as create_year,\n",
    "MONTH(created_time) as create_month,\n",
    "WEEKOFYEAR(created_time) as create_week,\n",
    "DAYOFYEAR(created_time) as create_day,\n",
    "(comments + review_comments) as reviews,\n",
    "commits,\n",
    "files_change,\n",
    "bug_fix(title) as fix,\n",
    "COUNT(CASE WHEN merged = \"true\" THEN 1 END) over (PARTITION BY rp_id ORDER BY closed_time ROWS BETWEEN UNBOUNDED PRECEDING AND 1 PRECEDING) as repo_popularity, \n",
    "closed_time,\n",
    "time_diff(created_time, merged_time) as acceptance_latency\n",
    "\n",
    "FROM pr_DF\n",
    "WHERE merged = \"true\"\n",
    "\"\"\")"
   ]
  },
  {
   "cell_type": "code",
   "execution_count": 98,
   "metadata": {},
   "outputs": [],
   "source": [
    "#latency_DF.write.mode('overwrite').parquet('latency_parquet')"
   ]
  },
  {
   "cell_type": "code",
   "execution_count": 2,
   "metadata": {},
   "outputs": [],
   "source": [
    "#latency_DF = spark.read.parquet('latency_parquet')"
   ]
  },
  {
   "cell_type": "markdown",
   "metadata": {},
   "source": [
    "### 7.1 Prepare data with ML pipeline"
   ]
  },
  {
   "cell_type": "code",
   "execution_count": 3,
   "metadata": {},
   "outputs": [],
   "source": [
    "latency_DF = latency_DF.withColumn('bug', latency_DF.fix.cast('integer'))"
   ]
  },
  {
   "cell_type": "code",
   "execution_count": 4,
   "metadata": {},
   "outputs": [],
   "source": [
    "categoricalColumns = []\n",
    "numericCols = ['pr_exp', 'commit_exp', 'body','bug','create_year','create_month','create_week','create_day','reviews','commits','files_change','repo_popularity']\n",
    "\n",
    "stages = []\n",
    "\n",
    "    \n",
    "label_stringIdx = StringIndexer(inputCol = 'acceptance_latency', outputCol = 'label')\n",
    "\n",
    "stages += [label_stringIdx]\n",
    "\n",
    "\n",
    "assemblerInputs = numericCols\n",
    "assembler = VectorAssembler(inputCols=assemblerInputs, outputCol=\"features\")\n",
    "stages += [assembler]"
   ]
  },
  {
   "cell_type": "code",
   "execution_count": 5,
   "metadata": {},
   "outputs": [
    {
     "name": "stdout",
     "output_type": "stream",
     "text": [
      "root\n",
      " |-- pr_exp: long (nullable = true)\n",
      " |-- commit_exp: long (nullable = true)\n",
      " |-- body: long (nullable = true)\n",
      " |-- create_year: integer (nullable = true)\n",
      " |-- create_month: integer (nullable = true)\n",
      " |-- create_week: integer (nullable = true)\n",
      " |-- create_day: integer (nullable = true)\n",
      " |-- reviews: integer (nullable = true)\n",
      " |-- commits: integer (nullable = true)\n",
      " |-- files_change: long (nullable = true)\n",
      " |-- fix: boolean (nullable = true)\n",
      " |-- repo_popularity: long (nullable = true)\n",
      " |-- closed_time: timestamp (nullable = true)\n",
      " |-- acceptance_latency: string (nullable = true)\n",
      " |-- bug: integer (nullable = true)\n",
      "\n"
     ]
    }
   ],
   "source": [
    "latency_DF.printSchema()"
   ]
  },
  {
   "cell_type": "code",
   "execution_count": 6,
   "metadata": {},
   "outputs": [
    {
     "data": {
      "text/plain": [
       "[StringIndexer_490fb42ed9d834412293, VectorAssembler_4db7a851d0976a5c1c6d]"
      ]
     },
     "execution_count": 6,
     "metadata": {},
     "output_type": "execute_result"
    }
   ],
   "source": [
    "stages"
   ]
  },
  {
   "cell_type": "code",
   "execution_count": 7,
   "metadata": {},
   "outputs": [
    {
     "name": "stdout",
     "output_type": "stream",
     "text": [
      "root\n",
      " |-- label: double (nullable = false)\n",
      " |-- features: vector (nullable = true)\n",
      " |-- closed_time: timestamp (nullable = true)\n",
      "\n"
     ]
    }
   ],
   "source": [
    "pipeline = Pipeline(stages = stages)\n",
    "pipelineModel = pipeline.fit(latency_DF)\n",
    "latency_DF_transformed = pipelineModel.transform(latency_DF)\n",
    "\n",
    "selectedCols = ['label','features'] +['closed_time']\n",
    "latency_DF_transformed = latency_DF_transformed.select(selectedCols)\n",
    "latency_DF_transformed.printSchema()\n",
    "latency_DF_transformed.createOrReplaceTempView('latency_DF')"
   ]
  },
  {
   "cell_type": "markdown",
   "metadata": {},
   "source": [
    "### 7.2 Split dataset every 3 month"
   ]
  },
  {
   "cell_type": "code",
   "execution_count": 8,
   "metadata": {},
   "outputs": [],
   "source": [
    "latency_DF_transformed_Q1 = spark.sql(\"\"\"\n",
    "SELECT features, label FROM latency_DF\n",
    "WHERE closed_time BETWEEN '2017-01-01' AND '2017-03-31'\n",
    "\"\"\")"
   ]
  },
  {
   "cell_type": "code",
   "execution_count": 9,
   "metadata": {},
   "outputs": [],
   "source": [
    "latency_DF_transformed_Q2 = spark.sql(\"\"\"\n",
    "SELECT features, label FROM latency_DF\n",
    "WHERE closed_time BETWEEN '2017-04-01' AND '2017-06-30'\n",
    "\"\"\")"
   ]
  },
  {
   "cell_type": "code",
   "execution_count": 10,
   "metadata": {},
   "outputs": [],
   "source": [
    "latency_DF_transformed_Q3 = spark.sql(\"\"\"\n",
    "SELECT features, label FROM latency_DF\n",
    "WHERE closed_time BETWEEN '2017-07-01' AND '2017-09-30'\n",
    "\"\"\")"
   ]
  },
  {
   "cell_type": "code",
   "execution_count": 11,
   "metadata": {},
   "outputs": [],
   "source": [
    "latency_DF_transformed_Q4 = spark.sql(\"\"\"\n",
    "SELECT features, label FROM latency_DF\n",
    "WHERE closed_time BETWEEN '2017-10-01' AND '2017-12-31'\n",
    "\"\"\")"
   ]
  },
  {
   "cell_type": "code",
   "execution_count": 12,
   "metadata": {},
   "outputs": [],
   "source": [
    "latency_DF_transformed_Q5 = spark.sql(\"\"\"\n",
    "SELECT features, label FROM latency_DF\n",
    "WHERE closed_time BETWEEN '2018-01-01' AND '2018-03-31'\n",
    "\"\"\")"
   ]
  },
  {
   "cell_type": "code",
   "execution_count": 13,
   "metadata": {},
   "outputs": [],
   "source": [
    "latency_DF_transformed_Q6 = spark.sql(\"\"\"\n",
    "SELECT features, label FROM latency_DF\n",
    "WHERE closed_time BETWEEN '2018-04-01' AND '2018-06-30'\n",
    "\"\"\")"
   ]
  },
  {
   "cell_type": "code",
   "execution_count": 14,
   "metadata": {},
   "outputs": [],
   "source": [
    "latency_DF_transformed_Q7 = spark.sql(\"\"\"\n",
    "SELECT features, label FROM latency_DF\n",
    "WHERE closed_time BETWEEN '2018-07-01' AND '2018-09-30'\n",
    "\"\"\")"
   ]
  },
  {
   "cell_type": "code",
   "execution_count": 15,
   "metadata": {},
   "outputs": [],
   "source": [
    "latency_DF_transformed_Q8 = spark.sql(\"\"\"\n",
    "SELECT features, label FROM latency_DF\n",
    "WHERE closed_time > '2018-10-01'\n",
    "\"\"\")"
   ]
  },
  {
   "cell_type": "markdown",
   "metadata": {},
   "source": [
    "### 7.3 Split each quarter's dataset into train and test"
   ]
  },
  {
   "cell_type": "code",
   "execution_count": 16,
   "metadata": {},
   "outputs": [],
   "source": [
    "latency_train1, latency_test1 = latency_DF_transformed_Q1.randomSplit([0.7, 0.3], seed = 1000)\n",
    "latency_train2, latency_test2 = latency_DF_transformed_Q2.randomSplit([0.7, 0.3], seed = 1000)\n",
    "latency_train3, latency_test3 = latency_DF_transformed_Q3.randomSplit([0.7, 0.3], seed = 1000)\n",
    "latency_train4, latency_test4 = latency_DF_transformed_Q4.randomSplit([0.7, 0.3], seed = 1000)\n",
    "latency_train5, latency_test5 = latency_DF_transformed_Q5.randomSplit([0.7, 0.3], seed = 1000)\n",
    "latency_train6, latency_test6 = latency_DF_transformed_Q6.randomSplit([0.7, 0.3], seed = 1000)\n",
    "latency_train7, latency_test7 = latency_DF_transformed_Q7.randomSplit([0.7, 0.3], seed = 1000)\n",
    "latency_train8, latency_test8 = latency_DF_transformed_Q8.randomSplit([0.7, 0.3], seed = 1000)"
   ]
  },
  {
   "cell_type": "markdown",
   "metadata": {},
   "source": [
    "### 7.4 Train random forest model with numTrees = 100"
   ]
  },
  {
   "cell_type": "code",
   "execution_count": 17,
   "metadata": {},
   "outputs": [],
   "source": [
    "rf = RandomForestClassifier(featuresCol = 'features', labelCol = 'label', numTrees = 100, seed = 1000)"
   ]
  },
  {
   "cell_type": "code",
   "execution_count": 18,
   "metadata": {},
   "outputs": [],
   "source": [
    "rf_model1_latency = rf.fit(latency_train1)\n",
    "rf_model2_latency = rf.fit(latency_train2)\n",
    "rf_model3_latency = rf.fit(latency_train3)\n",
    "rf_model4_latency = rf.fit(latency_train4)\n",
    "rf_model5_latency = rf.fit(latency_train5)\n",
    "rf_model6_latency = rf.fit(latency_train6)\n",
    "rf_model7_latency = rf.fit(latency_train7)\n",
    "rf_model8_latency = rf.fit(latency_train8)"
   ]
  },
  {
   "cell_type": "markdown",
   "metadata": {},
   "source": [
    "#### 7.4.1 Evaluate model with accuracy"
   ]
  },
  {
   "cell_type": "code",
   "execution_count": 19,
   "metadata": {},
   "outputs": [
    {
     "name": "stdout",
     "output_type": "stream",
     "text": [
      "+-------+--------------------+\n",
      "|summary|               value|\n",
      "+-------+--------------------+\n",
      "|  count|                   8|\n",
      "|   mean| 0.49299366399645805|\n",
      "| stddev|0.007720494688798...|\n",
      "|    min|           0.4832999|\n",
      "|    max|          0.50407636|\n",
      "+-------+--------------------+\n",
      "\n"
     ]
    }
   ],
   "source": [
    "evaluator = MulticlassClassificationEvaluator().setMetricName(\"accuracy\")\n",
    "evaluator_scores = [evaluator.evaluate(rf_model1_latency.transform(latency_test1)),\n",
    "                    evaluator.evaluate(rf_model2_latency.transform(latency_test2)),\n",
    "                    evaluator.evaluate(rf_model3_latency.transform(latency_test3)),\n",
    "                    evaluator.evaluate(rf_model4_latency.transform(latency_test4)),\n",
    "                    evaluator.evaluate(rf_model5_latency.transform(latency_test5)),\n",
    "                    evaluator.evaluate(rf_model6_latency.transform(latency_test6)),\n",
    "                    evaluator.evaluate(rf_model7_latency.transform(latency_test7)),\n",
    "                    evaluator.evaluate(rf_model8_latency.transform(latency_test8))]\n",
    "                    \n",
    "spark.createDataFrame(evaluator_scores, T.FloatType()).describe().show()"
   ]
  },
  {
   "cell_type": "code",
   "execution_count": 48,
   "metadata": {},
   "outputs": [],
   "source": [
    "import pandas as pd\n",
    "quarters = ['2017Q1', \n",
    "            '2017Q2',\n",
    "            '2017Q3',\n",
    "            '2017Q4',\n",
    "            '2018Q1',\n",
    "            '2018Q2',\n",
    "            '2018Q3',\n",
    "            '2018Q4']\n",
    "data_frame_columns = ['pr_exp', 'commit_exp', 'body','bug','create_year','create_month','create_week','create_day','reviews','commits','files_change','repo_popularity']\n",
    "\n",
    "important_feature_array_latency = [rf_model1_latency.featureImportances.toArray(),\n",
    "                          rf_model2_latency.featureImportances.toArray(),\n",
    "                          rf_model3_latency.featureImportances.toArray(),\n",
    "                          rf_model4_latency.featureImportances.toArray(),\n",
    "                          rf_model5_latency.featureImportances.toArray(),\n",
    "                          rf_model6_latency.featureImportances.toArray(),\n",
    "                          rf_model7_latency.featureImportances.toArray(),\n",
    "                          rf_model8_latency.featureImportances.toArray()]\n",
    "\n",
    "latency_fi_df = pd.DataFrame(important_feature_array_latency, index = quarters, columns =  data_frame_columns ).T"
   ]
  },
  {
   "cell_type": "markdown",
   "metadata": {},
   "source": [
    "#### 7.4.2 Feature Importance Heatmap"
   ]
  },
  {
   "cell_type": "code",
   "execution_count": 49,
   "metadata": {},
   "outputs": [
    {
     "data": {
      "image/png": "[encoded data removed]",
      "text/plain": [
       "<Figure size 432x288 with 2 Axes>"
      ]
     },
     "metadata": {
      "needs_background": "light"
     },
     "output_type": "display_data"
    }
   ],
   "source": [
    "g = sns.heatmap(latency_fi_df, linewidth = 0.5, cmap = 'Greys')"
   ]
  },
  {
   "cell_type": "markdown",
   "metadata": {},
   "source": [
    "#### 7.4.3 Average rank of feature importance"
   ]
  },
  {
   "cell_type": "code",
   "execution_count": 50,
   "metadata": {},
   "outputs": [
    {
     "name": "stdout",
     "output_type": "stream",
     "text": [
      "+---------------+--------+\n",
      "|feature_name   |avg_rank|\n",
      "+---------------+--------+\n",
      "|reviews        |1.0     |\n",
      "|create_month   |2.5     |\n",
      "|commits        |3.0     |\n",
      "|create_day     |4.0     |\n",
      "|create_week    |4.75    |\n",
      "|body           |7.125   |\n",
      "|repo_popularity|7.25    |\n",
      "|pr_exp         |8.625   |\n",
      "|create_year    |8.625   |\n",
      "|files_change   |9.125   |\n",
      "|commit_exp     |10.0    |\n",
      "|bug            |12.0    |\n",
      "+---------------+--------+\n",
      "\n"
     ]
    }
   ],
   "source": [
    "latency_rf_output = [[important_feature_array_latency[i].tolist()[j], \n",
    "              quarters[i],\n",
    "              data_frame_columns[j]] \n",
    "             for i in range(len(quarters)) for j in range(len(data_frame_columns))]\n",
    "\n",
    "cSchema = T.StructType([T.StructField(\"feature_importance\", T.DoubleType())\\\n",
    "                      ,T.StructField(\"quarter\", T.StringType())\\\n",
    "                      ,T.StructField(\"feature_name\", T.StringType())])\n",
    "latency_fi_DF = spark.createDataFrame(latency_rf_output,schema = cSchema)\n",
    "\n",
    "latency_fi_DF.createOrReplaceTempView('latency_fi_DF')\n",
    "\n",
    "spark.sql(\"\"\"\n",
    "SELECT feature_name, AVG(importance_RANK) as avg_rank\n",
    "FROM\n",
    "    (SELECT feature_name, quarter, DENSE_RANK() over (PARTITION BY quarter ORDER BY feature_importance DESC) as importance_rank\n",
    "    FROM latency_fi_DF\n",
    "    ORDER BY quarter)\n",
    "GROUP BY feature_name\n",
    "ORDER BY avg_rank\n",
    "\"\"\").show(12, False)"
   ]
  },
  {
   "cell_type": "markdown",
   "metadata": {},
   "source": [
    "### 7.5 Hyperparameter Tuning and Crossvalidation"
   ]
  },
  {
   "cell_type": "code",
   "execution_count": 51,
   "metadata": {},
   "outputs": [],
   "source": [
    "rf = RandomForestClassifier(featuresCol = 'features', labelCol = 'label', seed = 1000) \n",
    "paramGrid = (ParamGridBuilder()\n",
    "             .addGrid(rf.numTrees, [10, 100, 200])\n",
    "             .build())\n",
    "evaluator = MulticlassClassificationEvaluator().setMetricName(\"accuracy\")\n",
    "cv = CrossValidator(estimator=rf, estimatorParamMaps=paramGrid, evaluator=evaluator, numFolds= 10)"
   ]
  },
  {
   "cell_type": "code",
   "execution_count": 52,
   "metadata": {},
   "outputs": [],
   "source": [
    "rf_model1_latency = cv.fit(latency_train1)\n",
    "rf_model2_latency = cv.fit(latency_train2)\n",
    "rf_model3_latency = cv.fit(latency_train3)\n",
    "rf_model4_latency = cv.fit(latency_train4)\n",
    "rf_model5_latency = cv.fit(latency_train5)\n",
    "rf_model6_latency = cv.fit(latency_train6)\n",
    "rf_model7_latency = cv.fit(latency_train7)\n",
    "rf_model8_latency = cv.fit(latency_train8)"
   ]
  },
  {
   "cell_type": "markdown",
   "metadata": {},
   "source": [
    "#### 7.5.1 Evaluate with accuracy\n",
    "- The authors used accuracy in the paper"
   ]
  },
  {
   "cell_type": "code",
   "execution_count": 53,
   "metadata": {},
   "outputs": [],
   "source": [
    "evaluator = MulticlassClassificationEvaluator().setMetricName(\"accuracy\")"
   ]
  },
  {
   "cell_type": "code",
   "execution_count": 54,
   "metadata": {},
   "outputs": [
    {
     "name": "stdout",
     "output_type": "stream",
     "text": [
      "+-------+--------------------+\n",
      "|summary|               value|\n",
      "+-------+--------------------+\n",
      "|  count|                   8|\n",
      "|   mean|  0.4931233935058117|\n",
      "| stddev|0.007700715137866...|\n",
      "|    min|           0.4832999|\n",
      "|    max|          0.50407636|\n",
      "+-------+--------------------+\n",
      "\n"
     ]
    }
   ],
   "source": [
    "evaluator_scores = [evaluator.evaluate(rf_model1_latency.bestModel.transform(latency_test1)),\n",
    "                    evaluator.evaluate(rf_model2_latency.bestModel.transform(latency_test2)),\n",
    "                    evaluator.evaluate(rf_model3_latency.bestModel.transform(latency_test3)),\n",
    "                    evaluator.evaluate(rf_model4_latency.bestModel.transform(latency_test4)),\n",
    "                    evaluator.evaluate(rf_model5_latency.bestModel.transform(latency_test5)),\n",
    "                    evaluator.evaluate(rf_model6_latency.bestModel.transform(latency_test6)),\n",
    "                    evaluator.evaluate(rf_model7_latency.bestModel.transform(latency_test7)),\n",
    "                    evaluator.evaluate(rf_model8_latency.bestModel.transform(latency_test8))]\n",
    "                    \n",
    "spark.createDataFrame(evaluator_scores, T.FloatType()).describe().show()"
   ]
  },
  {
   "cell_type": "markdown",
   "metadata": {},
   "source": [
    "#### 7.5.2 Most important features in latency prediction\n",
    "- according to https://spark.apache.org/docs/latest/api/python/pyspark.ml.html#pyspark.ml.classification.RandomForestClassifier\n",
    "- The important feature are determined by Gini importance\n",
    "- In single tree, importance(feature j) = sum (over nodes which split on feature j) of the gain, where gain is scaled by the number of instances passing through node\n",
    "- In random forest is each feature’s importance is the average of its importance across all trees in the ensemble\n",
    "- Normalize the values to sum up to 1"
   ]
  },
  {
   "cell_type": "code",
   "execution_count": 55,
   "metadata": {},
   "outputs": [],
   "source": [
    "import pandas as pd\n",
    "quarters = ['2017Q1', \n",
    "            '2017Q2',\n",
    "            '2017Q3',\n",
    "            '2017Q4',\n",
    "            '2018Q1',\n",
    "            '2018Q2',\n",
    "            '2018Q3',\n",
    "            '2018Q4']\n",
    "data_frame_columns = ['pr_exp', 'commit_exp', 'body','bug','create_year','create_month','create_week','create_day','reviews','commits','files_change','repo_popularity']"
   ]
  },
  {
   "cell_type": "code",
   "execution_count": 56,
   "metadata": {},
   "outputs": [],
   "source": [
    "important_feature_array_latency = [rf_model1_latency.bestModel.featureImportances.toArray(),\n",
    "                          rf_model2_latency.bestModel.featureImportances.toArray(),\n",
    "                          rf_model3_latency.bestModel.featureImportances.toArray(),\n",
    "                          rf_model4_latency.bestModel.featureImportances.toArray(),\n",
    "                          rf_model5_latency.bestModel.featureImportances.toArray(),\n",
    "                          rf_model6_latency.bestModel.featureImportances.toArray(),\n",
    "                          rf_model7_latency.bestModel.featureImportances.toArray(),\n",
    "                          rf_model8_latency.bestModel.featureImportances.toArray()]\n",
    "\n",
    "latency_fi_df = pd.DataFrame(important_feature_array_latency, index = quarters, columns =  data_frame_columns ).T"
   ]
  },
  {
   "cell_type": "markdown",
   "metadata": {},
   "source": [
    "#### 7.5.3 Latency Feature Importance heatmap \n",
    "- darker the color the more important feature it is "
   ]
  },
  {
   "cell_type": "code",
   "execution_count": 57,
   "metadata": {},
   "outputs": [
    {
     "data": {
      "image/png": "[encoded data removed]",
      "text/plain": [
       "<Figure size 432x288 with 2 Axes>"
      ]
     },
     "metadata": {
      "needs_background": "light"
     },
     "output_type": "display_data"
    }
   ],
   "source": [
    "g = sns.heatmap(latency_fi_df, linewidth = 0.5, cmap = 'Greys')"
   ]
  },
  {
   "cell_type": "markdown",
   "metadata": {},
   "source": [
    "#### 7.5.4 Most important feature for latency prediciton from 2017-2018\n",
    "- smaller rank number the more important feature it is"
   ]
  },
  {
   "cell_type": "code",
   "execution_count": 58,
   "metadata": {},
   "outputs": [
    {
     "name": "stdout",
     "output_type": "stream",
     "text": [
      "+---------------+--------+\n",
      "|feature_name   |avg_rank|\n",
      "+---------------+--------+\n",
      "|reviews        |1.0     |\n",
      "|create_month   |2.625   |\n",
      "|commits        |3.0     |\n",
      "|create_day     |3.875   |\n",
      "|create_week    |4.75    |\n",
      "|repo_popularity|7.25    |\n",
      "|body           |7.25    |\n",
      "|pr_exp         |8.625   |\n",
      "|create_year    |8.75    |\n",
      "|files_change   |9.0     |\n",
      "|commit_exp     |9.875   |\n",
      "|bug            |12.0    |\n",
      "+---------------+--------+\n",
      "\n"
     ]
    }
   ],
   "source": [
    "latency_rf_output = [[important_feature_array_latency[i].tolist()[j], \n",
    "              quarters[i],\n",
    "              data_frame_columns[j]] \n",
    "             for i in range(len(quarters)) for j in range(len(data_frame_columns))]\n",
    "\n",
    "cSchema = T.StructType([T.StructField(\"feature_importance\", T.DoubleType())\\\n",
    "                      ,T.StructField(\"quarter\", T.StringType())\\\n",
    "                      ,T.StructField(\"feature_name\", T.StringType())])\n",
    "latency_fi_DF = spark.createDataFrame(latency_rf_output,schema = cSchema)\n",
    "\n",
    "latency_fi_DF.createOrReplaceTempView('latency_fi_DF')\n",
    "\n",
    "spark.sql(\"\"\"\n",
    "SELECT feature_name, AVG(importance_RANK) as avg_rank\n",
    "FROM\n",
    "    (SELECT feature_name, quarter, DENSE_RANK() over (PARTITION BY quarter ORDER BY feature_importance DESC) as importance_rank\n",
    "    FROM latency_fi_DF\n",
    "    ORDER BY quarter)\n",
    "GROUP BY feature_name\n",
    "ORDER BY avg_rank\n",
    "\"\"\").show(12, False)"
   ]
  },
  {
   "cell_type": "markdown",
   "metadata": {},
   "source": [
    "### 7.6 Baseline Model\n",
    "- Assume every pull request is classified into within_day\n",
    "- Because within_day class has the most number in dataset"
   ]
  },
  {
   "cell_type": "code",
   "execution_count": 127,
   "metadata": {},
   "outputs": [
    {
     "name": "stdout",
     "output_type": "stream",
     "text": [
      "+-------------------+\n",
      "|     baseline_model|\n",
      "+-------------------+\n",
      "|0.42076397345251226|\n",
      "+-------------------+\n",
      "\n"
     ]
    }
   ],
   "source": [
    "latency_DF.createOrReplaceTempView('baseline_DF')\n",
    "spark.sql(\"\"\"\n",
    "SELECT day/total as baseline_model\n",
    "FROM(\n",
    "    SELECT COUNT(*) as total, COUNT(CASE WHEN acceptance_latency = \"within_day\" THEN 1 END) as day\n",
    "    FROM baseline_DF\n",
    ")\n",
    "\"\"\").show()"
   ]
  },
  {
   "cell_type": "code",
   "execution_count": null,
   "metadata": {},
   "outputs": [],
   "source": []
  }
 ],
 "metadata": {
  "kernelspec": {
   "display_name": "Python 3",
   "language": "python",
   "name": "python3"
  },
  "language_info": {
   "codemirror_mode": {
    "name": "ipython",
    "version": 3
   },
   "file_extension": ".py",
   "mimetype": "text/x-python",
   "name": "python",
   "nbconvert_exporter": "python",
   "pygments_lexer": "ipython3",
   "version": "3.6.8"
  }
 },
 "nbformat": 4,
 "nbformat_minor": 2
}
